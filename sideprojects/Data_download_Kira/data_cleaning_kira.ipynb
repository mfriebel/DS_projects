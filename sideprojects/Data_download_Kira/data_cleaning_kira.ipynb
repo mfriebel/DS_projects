{
 "cells": [
  {
   "cell_type": "code",
   "execution_count": 190,
   "metadata": {},
   "outputs": [],
   "source": [
    "import pandas as pd\n",
    "import os\n",
    "from datetime import datetime "
   ]
  },
  {
   "cell_type": "code",
   "execution_count": 137,
   "metadata": {},
   "outputs": [],
   "source": [
    "os.mkdir(\"./XLS2/\")"
   ]
  },
  {
   "cell_type": "code",
   "execution_count": 192,
   "metadata": {},
   "outputs": [],
   "source": [
    "list = os.listdir(\"./XLS/\")[1:]"
   ]
  },
  {
   "cell_type": "code",
   "execution_count": 193,
   "metadata": {},
   "outputs": [],
   "source": [
    "list.sort(key = lambda date: datetime.strptime(date, '%Y%m'))"
   ]
  },
  {
   "cell_type": "code",
   "execution_count": 194,
   "metadata": {},
   "outputs": [
    {
     "output_type": "execute_result",
     "data": {
      "text/plain": [
       "['202001',\n",
       " '202002',\n",
       " '202003',\n",
       " '202004',\n",
       " '202005',\n",
       " '202006',\n",
       " '202007',\n",
       " '202008',\n",
       " '202009',\n",
       " '202010',\n",
       " '202011',\n",
       " '202012']"
      ]
     },
     "metadata": {},
     "execution_count": 194
    }
   ],
   "source": [
    "list"
   ]
  },
  {
   "cell_type": "code",
   "execution_count": 179,
   "metadata": {},
   "outputs": [],
   "source": [
    "days = os.listdir(f\"./XLS/202001\")"
   ]
  },
  {
   "cell_type": "code",
   "execution_count": 199,
   "metadata": {},
   "outputs": [],
   "source": [
    "days = [day[:-5] for day in days] \n",
    "days.sort(key = lambda date: datetime.strptime(date, '%Y%m%d'))"
   ]
  },
  {
   "cell_type": "code",
   "execution_count": 200,
   "metadata": {},
   "outputs": [
    {
     "output_type": "execute_result",
     "data": {
      "text/plain": [
       "['20200102',\n",
       " '20200103',\n",
       " '20200104',\n",
       " '20200105',\n",
       " '20200106',\n",
       " '20200107',\n",
       " '20200108',\n",
       " '20200109',\n",
       " '20200110',\n",
       " '20200111',\n",
       " '20200112',\n",
       " '20200113',\n",
       " '20200114',\n",
       " '20200115',\n",
       " '20200116',\n",
       " '20200117',\n",
       " '20200118',\n",
       " '20200119',\n",
       " '20200120',\n",
       " '20200121',\n",
       " '20200122',\n",
       " '20200123',\n",
       " '20200124',\n",
       " '20200125',\n",
       " '20200126',\n",
       " '20200127',\n",
       " '20200128',\n",
       " '20200129',\n",
       " '20200130',\n",
       " '20200131']"
      ]
     },
     "metadata": {},
     "execution_count": 200
    }
   ],
   "source": [
    "days"
   ]
  },
  {
   "cell_type": "code",
   "execution_count": 202,
   "metadata": {},
   "outputs": [
    {
     "output_type": "stream",
     "name": "stdout",
     "text": [
      "['202001', '202002', '202003', '202004', '202005', '202006', '202007', '202008', '202009', '202010', '202011', '202012']\n"
     ]
    }
   ],
   "source": [
    "year = os.listdir(\"./XLS/\")[1:]\n",
    "year.sort(key = lambda date: datetime.strptime(date, '%Y%m'))\n",
    "print(year)\n",
    "df_year = pd.DataFrame(columns=['Date', 'Product', 'Market', 'Direction', 'Offered Capacity [MW]',\n",
    "       'Balancing capacity price [HUF/MW/h]'])\n",
    "for month in year:\n",
    "    os.mkdir(f\"./XLS2/{month}\")\n",
    "    days = os.listdir(f\"./XLS/{month}\")\n",
    "    days = [day[:-5] for day in days] \n",
    "    days.sort(key = lambda date: datetime.strptime(date, '%Y%m%d'))\n",
    "    df_month = pd.DataFrame(columns=['Date', 'Product', 'Market', 'Direction', 'Offered Capacity [MW]',\n",
    "       'Balancing capacity price [HUF/MW/h]'])\n",
    "    for day in days:\n",
    "        df = pd.read_excel(f\"./XLS/{month}/{day}.xlsx\", skiprows=7, skipfooter=7)\n",
    "        drop_columns = ['Unnamed: 2', 'Unnamed: 3', 'Unnamed: 8', 'Unnamed: 9']\n",
    "        df_clean = df.drop(drop_columns, axis=1)\n",
    "        df_clean.fillna(method='ffill', inplace=True)\n",
    "        df_clean.to_excel(f\"./XLS2/{month}/{day}.xlsx\", index=False)\n",
    "        df_month = df_month.append(df_clean)\n",
    "        df_year = df_year.append(df_clean)\n",
    "    df_month.to_excel(f\"./XLS2/{month}/{month}_all.xlsx\", index=False)\n",
    "df_year.to_excel(f\"./XLS2/2020_all.xlsx\", index=False)"
   ]
  },
  {
   "cell_type": "code",
   "execution_count": 154,
   "metadata": {},
   "outputs": [
    {
     "output_type": "execute_result",
     "data": {
      "text/plain": [
       "          Date      Product  Unnamed: 2  Unnamed: 3 Market Direction  \\\n",
       "0  2020.04.30.  00:00-01:00         NaN         NaN    FCR  Negative   \n",
       "1          NaN          NaN         NaN         NaN    NaN       NaN   \n",
       "2          NaN          NaN         NaN         NaN    NaN       NaN   \n",
       "3          NaN          NaN         NaN         NaN    NaN       NaN   \n",
       "4          NaN          NaN         NaN         NaN    NaN       NaN   \n",
       "\n",
       "   Offered Capacity [MW]  Balancing capacity price [HUF/MW/h]  Unnamed: 8  \\\n",
       "0                      1                                40000         NaN   \n",
       "1                      5                                40000         NaN   \n",
       "2                     10                                40000         NaN   \n",
       "3                      5                                14400         NaN   \n",
       "4                      8                                14400         NaN   \n",
       "\n",
       "   Unnamed: 9  \n",
       "0         NaN  \n",
       "1         NaN  \n",
       "2         NaN  \n",
       "3         NaN  \n",
       "4         NaN  "
      ],
      "text/html": "<div>\n<style scoped>\n    .dataframe tbody tr th:only-of-type {\n        vertical-align: middle;\n    }\n\n    .dataframe tbody tr th {\n        vertical-align: top;\n    }\n\n    .dataframe thead th {\n        text-align: right;\n    }\n</style>\n<table border=\"1\" class=\"dataframe\">\n  <thead>\n    <tr style=\"text-align: right;\">\n      <th></th>\n      <th>Date</th>\n      <th>Product</th>\n      <th>Unnamed: 2</th>\n      <th>Unnamed: 3</th>\n      <th>Market</th>\n      <th>Direction</th>\n      <th>Offered Capacity [MW]</th>\n      <th>Balancing capacity price [HUF/MW/h]</th>\n      <th>Unnamed: 8</th>\n      <th>Unnamed: 9</th>\n    </tr>\n  </thead>\n  <tbody>\n    <tr>\n      <th>0</th>\n      <td>2020.04.30.</td>\n      <td>00:00-01:00</td>\n      <td>NaN</td>\n      <td>NaN</td>\n      <td>FCR</td>\n      <td>Negative</td>\n      <td>1</td>\n      <td>40000</td>\n      <td>NaN</td>\n      <td>NaN</td>\n    </tr>\n    <tr>\n      <th>1</th>\n      <td>NaN</td>\n      <td>NaN</td>\n      <td>NaN</td>\n      <td>NaN</td>\n      <td>NaN</td>\n      <td>NaN</td>\n      <td>5</td>\n      <td>40000</td>\n      <td>NaN</td>\n      <td>NaN</td>\n    </tr>\n    <tr>\n      <th>2</th>\n      <td>NaN</td>\n      <td>NaN</td>\n      <td>NaN</td>\n      <td>NaN</td>\n      <td>NaN</td>\n      <td>NaN</td>\n      <td>10</td>\n      <td>40000</td>\n      <td>NaN</td>\n      <td>NaN</td>\n    </tr>\n    <tr>\n      <th>3</th>\n      <td>NaN</td>\n      <td>NaN</td>\n      <td>NaN</td>\n      <td>NaN</td>\n      <td>NaN</td>\n      <td>NaN</td>\n      <td>5</td>\n      <td>14400</td>\n      <td>NaN</td>\n      <td>NaN</td>\n    </tr>\n    <tr>\n      <th>4</th>\n      <td>NaN</td>\n      <td>NaN</td>\n      <td>NaN</td>\n      <td>NaN</td>\n      <td>NaN</td>\n      <td>NaN</td>\n      <td>8</td>\n      <td>14400</td>\n      <td>NaN</td>\n      <td>NaN</td>\n    </tr>\n  </tbody>\n</table>\n</div>"
     },
     "metadata": {},
     "execution_count": 154
    }
   ],
   "source": [
    "df = pd.read_excel(\"./XLS/202004/20200430.xlsx\", skiprows=7, skipfooter=7)\n",
    "df.head()"
   ]
  },
  {
   "cell_type": "code",
   "execution_count": 153,
   "metadata": {},
   "outputs": [
    {
     "output_type": "execute_result",
     "data": {
      "text/plain": [
       "     Date Product  Unnamed: 2  Unnamed: 3 Market Direction  \\\n",
       "1367  NaN     NaN         NaN         NaN    NaN       NaN   \n",
       "1368  NaN     NaN         NaN         NaN    NaN       NaN   \n",
       "1369  NaN     NaN         NaN         NaN    NaN       NaN   \n",
       "1370  NaN     NaN         NaN         NaN    NaN       NaN   \n",
       "1371  NaN     NaN         NaN         NaN    NaN       NaN   \n",
       "\n",
       "      Offered Capacity [MW]  Balancing capacity price [HUF/MW/h]  Unnamed: 8  \\\n",
       "1367                    3.0                               1490.0         NaN   \n",
       "1368                   17.0                               1399.0         NaN   \n",
       "1369                   10.0                               1396.0         NaN   \n",
       "1370                    7.0                               1300.0         NaN   \n",
       "1371                    NaN                                  NaN         NaN   \n",
       "\n",
       "      Unnamed: 9  \n",
       "1367         NaN  \n",
       "1368         NaN  \n",
       "1369         NaN  \n",
       "1370         NaN  \n",
       "1371         NaN  "
      ],
      "text/html": "<div>\n<style scoped>\n    .dataframe tbody tr th:only-of-type {\n        vertical-align: middle;\n    }\n\n    .dataframe tbody tr th {\n        vertical-align: top;\n    }\n\n    .dataframe thead th {\n        text-align: right;\n    }\n</style>\n<table border=\"1\" class=\"dataframe\">\n  <thead>\n    <tr style=\"text-align: right;\">\n      <th></th>\n      <th>Date</th>\n      <th>Product</th>\n      <th>Unnamed: 2</th>\n      <th>Unnamed: 3</th>\n      <th>Market</th>\n      <th>Direction</th>\n      <th>Offered Capacity [MW]</th>\n      <th>Balancing capacity price [HUF/MW/h]</th>\n      <th>Unnamed: 8</th>\n      <th>Unnamed: 9</th>\n    </tr>\n  </thead>\n  <tbody>\n    <tr>\n      <th>1367</th>\n      <td>NaN</td>\n      <td>NaN</td>\n      <td>NaN</td>\n      <td>NaN</td>\n      <td>NaN</td>\n      <td>NaN</td>\n      <td>3.0</td>\n      <td>1490.0</td>\n      <td>NaN</td>\n      <td>NaN</td>\n    </tr>\n    <tr>\n      <th>1368</th>\n      <td>NaN</td>\n      <td>NaN</td>\n      <td>NaN</td>\n      <td>NaN</td>\n      <td>NaN</td>\n      <td>NaN</td>\n      <td>17.0</td>\n      <td>1399.0</td>\n      <td>NaN</td>\n      <td>NaN</td>\n    </tr>\n    <tr>\n      <th>1369</th>\n      <td>NaN</td>\n      <td>NaN</td>\n      <td>NaN</td>\n      <td>NaN</td>\n      <td>NaN</td>\n      <td>NaN</td>\n      <td>10.0</td>\n      <td>1396.0</td>\n      <td>NaN</td>\n      <td>NaN</td>\n    </tr>\n    <tr>\n      <th>1370</th>\n      <td>NaN</td>\n      <td>NaN</td>\n      <td>NaN</td>\n      <td>NaN</td>\n      <td>NaN</td>\n      <td>NaN</td>\n      <td>7.0</td>\n      <td>1300.0</td>\n      <td>NaN</td>\n      <td>NaN</td>\n    </tr>\n    <tr>\n      <th>1371</th>\n      <td>NaN</td>\n      <td>NaN</td>\n      <td>NaN</td>\n      <td>NaN</td>\n      <td>NaN</td>\n      <td>NaN</td>\n      <td>NaN</td>\n      <td>NaN</td>\n      <td>NaN</td>\n      <td>NaN</td>\n    </tr>\n  </tbody>\n</table>\n</div>"
     },
     "metadata": {},
     "execution_count": 153
    }
   ],
   "source": [
    "df.tail()"
   ]
  },
  {
   "cell_type": "code",
   "execution_count": 115,
   "metadata": {},
   "outputs": [],
   "source": [
    "drop_columns = ['Unnamed: 2', 'Unnamed: 3', 'Unnamed: 8', 'Unnamed: 9']\n",
    "df_clean = df.drop(drop_columns, axis=1)"
   ]
  },
  {
   "cell_type": "code",
   "execution_count": 126,
   "metadata": {},
   "outputs": [],
   "source": [
    "df_clean.fillna(method='ffill', inplace=True)"
   ]
  },
  {
   "cell_type": "code",
   "execution_count": 128,
   "metadata": {},
   "outputs": [
    {
     "output_type": "execute_result",
     "data": {
      "text/plain": [
       "Index(['Date', 'Product', 'Market', 'Direction', 'Offered Capacity [MW]',\n",
       "       'Balancing capacity price [HUF/MW/h]'],\n",
       "      dtype='object')"
      ]
     },
     "metadata": {},
     "execution_count": 128
    }
   ],
   "source": [
    "df_clean.columns"
   ]
  },
  {
   "cell_type": "code",
   "execution_count": 127,
   "metadata": {},
   "outputs": [],
   "source": [
    "df_clean.to_excel(\"./XLS/202001/20200102_2.xlsx\")"
   ]
  },
  {
   "cell_type": "code",
   "execution_count": 133,
   "metadata": {},
   "outputs": [],
   "source": [
    "df_month = pd.DataFrame(columns=['Date', 'Product', 'Market', 'Direction', 'Offered Capacity [MW]',\n",
    "       'Balancing capacity price [HUF/MW/h]'])"
   ]
  },
  {
   "cell_type": "code",
   "execution_count": 134,
   "metadata": {},
   "outputs": [
    {
     "output_type": "execute_result",
     "data": {
      "text/plain": [
       "                                                   Date      Product  \\\n",
       "0                                           2020.01.11.  00:00-01:00   \n",
       "1                                           2020.01.11.  00:00-01:00   \n",
       "2                                           2020.01.11.  00:00-01:00   \n",
       "3                                           2020.01.11.  00:00-01:00   \n",
       "4                                           2020.01.11.  00:00-01:00   \n",
       "...                                                 ...          ...   \n",
       "1348                                       Information:  23:00-24:00   \n",
       "1349  The remuneration of contracted balancing capac...  23:00-24:00   \n",
       "1350  The report does not include the bids, which ha...  23:00-24:00   \n",
       "1351  The report shows only the different combinatio...  23:00-24:00   \n",
       "1352  The report shows only the different combinatio...  23:00-24:00   \n",
       "\n",
       "           Market Direction  Offered Capacity [MW]  \\\n",
       "0             FCR  Negative                    1.0   \n",
       "1             FCR  Negative                    5.0   \n",
       "2             FCR  Negative                    6.0   \n",
       "3             FCR  Negative                    8.0   \n",
       "4             FCR  Negative                   10.0   \n",
       "...           ...       ...                    ...   \n",
       "1348  mFRR and RR  Positive                   10.0   \n",
       "1349  mFRR and RR  Positive                   10.0   \n",
       "1350  mFRR and RR  Positive                   10.0   \n",
       "1351  mFRR and RR  Positive                   10.0   \n",
       "1352  mFRR and RR  Positive                   10.0   \n",
       "\n",
       "      Balancing capacity price [HUF/MW/h]  \n",
       "0                                 40000.0  \n",
       "1                                 40000.0  \n",
       "2                                 40000.0  \n",
       "3                                 40000.0  \n",
       "4                                 40000.0  \n",
       "...                                   ...  \n",
       "1348                               2490.0  \n",
       "1349                               2490.0  \n",
       "1350                               2490.0  \n",
       "1351                               2490.0  \n",
       "1352                               2490.0  \n",
       "\n",
       "[1353 rows x 6 columns]"
      ],
      "text/html": "<div>\n<style scoped>\n    .dataframe tbody tr th:only-of-type {\n        vertical-align: middle;\n    }\n\n    .dataframe tbody tr th {\n        vertical-align: top;\n    }\n\n    .dataframe thead th {\n        text-align: right;\n    }\n</style>\n<table border=\"1\" class=\"dataframe\">\n  <thead>\n    <tr style=\"text-align: right;\">\n      <th></th>\n      <th>Date</th>\n      <th>Product</th>\n      <th>Market</th>\n      <th>Direction</th>\n      <th>Offered Capacity [MW]</th>\n      <th>Balancing capacity price [HUF/MW/h]</th>\n    </tr>\n  </thead>\n  <tbody>\n    <tr>\n      <th>0</th>\n      <td>2020.01.11.</td>\n      <td>00:00-01:00</td>\n      <td>FCR</td>\n      <td>Negative</td>\n      <td>1.0</td>\n      <td>40000.0</td>\n    </tr>\n    <tr>\n      <th>1</th>\n      <td>2020.01.11.</td>\n      <td>00:00-01:00</td>\n      <td>FCR</td>\n      <td>Negative</td>\n      <td>5.0</td>\n      <td>40000.0</td>\n    </tr>\n    <tr>\n      <th>2</th>\n      <td>2020.01.11.</td>\n      <td>00:00-01:00</td>\n      <td>FCR</td>\n      <td>Negative</td>\n      <td>6.0</td>\n      <td>40000.0</td>\n    </tr>\n    <tr>\n      <th>3</th>\n      <td>2020.01.11.</td>\n      <td>00:00-01:00</td>\n      <td>FCR</td>\n      <td>Negative</td>\n      <td>8.0</td>\n      <td>40000.0</td>\n    </tr>\n    <tr>\n      <th>4</th>\n      <td>2020.01.11.</td>\n      <td>00:00-01:00</td>\n      <td>FCR</td>\n      <td>Negative</td>\n      <td>10.0</td>\n      <td>40000.0</td>\n    </tr>\n    <tr>\n      <th>...</th>\n      <td>...</td>\n      <td>...</td>\n      <td>...</td>\n      <td>...</td>\n      <td>...</td>\n      <td>...</td>\n    </tr>\n    <tr>\n      <th>1348</th>\n      <td>Information:</td>\n      <td>23:00-24:00</td>\n      <td>mFRR and RR</td>\n      <td>Positive</td>\n      <td>10.0</td>\n      <td>2490.0</td>\n    </tr>\n    <tr>\n      <th>1349</th>\n      <td>The remuneration of contracted balancing capac...</td>\n      <td>23:00-24:00</td>\n      <td>mFRR and RR</td>\n      <td>Positive</td>\n      <td>10.0</td>\n      <td>2490.0</td>\n    </tr>\n    <tr>\n      <th>1350</th>\n      <td>The report does not include the bids, which ha...</td>\n      <td>23:00-24:00</td>\n      <td>mFRR and RR</td>\n      <td>Positive</td>\n      <td>10.0</td>\n      <td>2490.0</td>\n    </tr>\n    <tr>\n      <th>1351</th>\n      <td>The report shows only the different combinatio...</td>\n      <td>23:00-24:00</td>\n      <td>mFRR and RR</td>\n      <td>Positive</td>\n      <td>10.0</td>\n      <td>2490.0</td>\n    </tr>\n    <tr>\n      <th>1352</th>\n      <td>The report shows only the different combinatio...</td>\n      <td>23:00-24:00</td>\n      <td>mFRR and RR</td>\n      <td>Positive</td>\n      <td>10.0</td>\n      <td>2490.0</td>\n    </tr>\n  </tbody>\n</table>\n<p>1353 rows × 6 columns</p>\n</div>"
     },
     "metadata": {},
     "execution_count": 134
    }
   ],
   "source": [
    "df_month.append(df_clean)"
   ]
  },
  {
   "cell_type": "code",
   "execution_count": null,
   "metadata": {},
   "outputs": [],
   "source": []
  }
 ],
 "metadata": {
  "kernelspec": {
   "display_name": "Python 3",
   "language": "python",
   "name": "python3"
  },
  "language_info": {
   "codemirror_mode": {
    "name": "ipython",
    "version": 3
   },
   "file_extension": ".py",
   "mimetype": "text/x-python",
   "name": "python",
   "nbconvert_exporter": "python",
   "pygments_lexer": "ipython3",
   "version": "3.8.3-final"
  }
 },
 "nbformat": 4,
 "nbformat_minor": 4
}