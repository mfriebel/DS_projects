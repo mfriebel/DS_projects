{
 "cells": [
  {
   "cell_type": "markdown",
   "metadata": {},
   "source": [
    "### Make your own Feed forward network"
   ]
  },
  {
   "cell_type": "code",
   "execution_count": 1,
   "metadata": {},
   "outputs": [],
   "source": [
    "import numpy as np\n",
    "from sklearn.datasets import make_moons\n",
    "import matplotlib.pyplot as plt"
   ]
  },
  {
   "cell_type": "markdown",
   "metadata": {},
   "source": [
    "### This is the data we'll be using"
   ]
  },
  {
   "cell_type": "code",
   "execution_count": 64,
   "metadata": {},
   "outputs": [],
   "source": [
    "X, y = make_moons(n_samples=50, noise=0.2, random_state=42)"
   ]
  },
  {
   "cell_type": "code",
   "execution_count": 65,
   "metadata": {},
   "outputs": [
    {
     "output_type": "execute_result",
     "data": {
      "text/plain": [
       "(50, 2)"
      ]
     },
     "metadata": {},
     "execution_count": 65
    }
   ],
   "source": [
    "X.shape"
   ]
  },
  {
   "cell_type": "code",
   "execution_count": 66,
   "metadata": {},
   "outputs": [
    {
     "output_type": "execute_result",
     "data": {
      "text/plain": [
       "(array([-0.15856989,  0.98480618]), 0)"
      ]
     },
     "metadata": {},
     "execution_count": 66
    }
   ],
   "source": [
    "X[0], y[0]"
   ]
  },
  {
   "cell_type": "code",
   "execution_count": 67,
   "metadata": {},
   "outputs": [
    {
     "output_type": "execute_result",
     "data": {
      "text/plain": [
       "<matplotlib.collections.PathCollection at 0x7faadbbec670>"
      ]
     },
     "metadata": {},
     "execution_count": 67
    },
    {
     "output_type": "display_data",
     "data": {
      "text/plain": "<Figure size 432x288 with 1 Axes>",
      "image/svg+xml": "<?xml version=\"1.0\" encoding=\"utf-8\" standalone=\"no\"?>\n<!DOCTYPE svg PUBLIC \"-//W3C//DTD SVG 1.1//EN\"\n  \"http://www.w3.org/Graphics/SVG/1.1/DTD/svg11.dtd\">\n<!-- Created with matplotlib (https://matplotlib.org/) -->\n<svg height=\"248.518125pt\" version=\"1.1\" viewBox=\"0 0 380.482812 248.518125\" width=\"380.482812pt\" xmlns=\"http://www.w3.org/2000/svg\" xmlns:xlink=\"http://www.w3.org/1999/xlink\">\n <defs>\n  <style type=\"text/css\">\n*{stroke-linecap:butt;stroke-linejoin:round;}\n  </style>\n </defs>\n <g id=\"figure_1\">\n  <g id=\"patch_1\">\n   <path d=\"M -0 248.518125 \nL 380.482812 248.518125 \nL 380.482812 0 \nL -0 0 \nz\n\" style=\"fill:none;\"/>\n  </g>\n  <g id=\"axes_1\">\n   <g id=\"patch_2\">\n    <path d=\"M 38.482813 224.64 \nL 373.282813 224.64 \nL 373.282813 7.2 \nL 38.482813 7.2 \nz\n\" style=\"fill:#ffffff;\"/>\n   </g>\n   <g id=\"PathCollection_1\">\n    <defs>\n     <path d=\"M 0 3 \nC 0.795609 3 1.55874 2.683901 2.12132 2.12132 \nC 2.683901 1.55874 3 0.795609 3 0 \nC 3 -0.795609 2.683901 -1.55874 2.12132 -2.12132 \nC 1.55874 -2.683901 0.795609 -3 0 -3 \nC -0.795609 -3 -1.55874 -2.683901 -2.12132 -2.12132 \nC -2.683901 -1.55874 -3 -0.795609 -3 0 \nC -3 0.795609 -2.683901 1.55874 -2.12132 2.12132 \nC -1.55874 2.683901 -0.795609 3 0 3 \nz\n\" id=\"C0_0_1a20a293f5\"/>\n    </defs>\n    <g clip-path=\"url(#p6f11c176d2)\">\n     <use style=\"fill:#440154;stroke:#440154;\" x=\"152.210042\" xlink:href=\"#C0_0_1a20a293f5\" y=\"68.8441\"/>\n    </g>\n    <g clip-path=\"url(#p6f11c176d2)\">\n     <use style=\"fill:#fde725;stroke:#fde725;\" x=\"269.810455\" xlink:href=\"#C0_0_1a20a293f5\" y=\"214.756364\"/>\n    </g>\n    <g clip-path=\"url(#p6f11c176d2)\">\n     <use style=\"fill:#fde725;stroke:#fde725;\" x=\"203.699342\" xlink:href=\"#C0_0_1a20a293f5\" y=\"139.456173\"/>\n    </g>\n    <g clip-path=\"url(#p6f11c176d2)\">\n     <use style=\"fill:#fde725;stroke:#fde725;\" x=\"333.212413\" xlink:href=\"#C0_0_1a20a293f5\" y=\"151.472777\"/>\n    </g>\n    <g clip-path=\"url(#p6f11c176d2)\">\n     <use style=\"fill:#440154;stroke:#440154;\" x=\"88.303781\" xlink:href=\"#C0_0_1a20a293f5\" y=\"93.66497\"/>\n    </g>\n    <g clip-path=\"url(#p6f11c176d2)\">\n     <use style=\"fill:#fde725;stroke:#fde725;\" x=\"343.390437\" xlink:href=\"#C0_0_1a20a293f5\" y=\"97.045789\"/>\n    </g>\n    <g clip-path=\"url(#p6f11c176d2)\">\n     <use style=\"fill:#fde725;stroke:#fde725;\" x=\"173.70856\" xlink:href=\"#C0_0_1a20a293f5\" y=\"150.048769\"/>\n    </g>\n    <g clip-path=\"url(#p6f11c176d2)\">\n     <use style=\"fill:#fde725;stroke:#fde725;\" x=\"126.502094\" xlink:href=\"#C0_0_1a20a293f5\" y=\"131.843412\"/>\n    </g>\n    <g clip-path=\"url(#p6f11c176d2)\">\n     <use style=\"fill:#fde725;stroke:#fde725;\" x=\"206.423439\" xlink:href=\"#C0_0_1a20a293f5\" y=\"179.051587\"/>\n    </g>\n    <g clip-path=\"url(#p6f11c176d2)\">\n     <use style=\"fill:#440154;stroke:#440154;\" x=\"107.156945\" xlink:href=\"#C0_0_1a20a293f5\" y=\"136.364628\"/>\n    </g>\n    <g clip-path=\"url(#p6f11c176d2)\">\n     <use style=\"fill:#440154;stroke:#440154;\" x=\"177.395269\" xlink:href=\"#C0_0_1a20a293f5\" y=\"67.000772\"/>\n    </g>\n    <g clip-path=\"url(#p6f11c176d2)\">\n     <use style=\"fill:#440154;stroke:#440154;\" x=\"256.048092\" xlink:href=\"#C0_0_1a20a293f5\" y=\"100.904669\"/>\n    </g>\n    <g clip-path=\"url(#p6f11c176d2)\">\n     <use style=\"fill:#fde725;stroke:#fde725;\" x=\"303.130541\" xlink:href=\"#C0_0_1a20a293f5\" y=\"184.255259\"/>\n    </g>\n    <g clip-path=\"url(#p6f11c176d2)\">\n     <use style=\"fill:#440154;stroke:#440154;\" x=\"215.09855\" xlink:href=\"#C0_0_1a20a293f5\" y=\"72.019596\"/>\n    </g>\n    <g clip-path=\"url(#p6f11c176d2)\">\n     <use style=\"fill:#440154;stroke:#440154;\" x=\"234.95175\" xlink:href=\"#C0_0_1a20a293f5\" y=\"142.571632\"/>\n    </g>\n    <g clip-path=\"url(#p6f11c176d2)\">\n     <use style=\"fill:#440154;stroke:#440154;\" x=\"197.720504\" xlink:href=\"#C0_0_1a20a293f5\" y=\"118.897251\"/>\n    </g>\n    <g clip-path=\"url(#p6f11c176d2)\">\n     <use style=\"fill:#fde725;stroke:#fde725;\" x=\"317.892294\" xlink:href=\"#C0_0_1a20a293f5\" y=\"208.013707\"/>\n    </g>\n    <g clip-path=\"url(#p6f11c176d2)\">\n     <use style=\"fill:#fde725;stroke:#fde725;\" x=\"354.244439\" xlink:href=\"#C0_0_1a20a293f5\" y=\"123.956697\"/>\n    </g>\n    <g clip-path=\"url(#p6f11c176d2)\">\n     <use style=\"fill:#fde725;stroke:#fde725;\" x=\"353.2383\" xlink:href=\"#C0_0_1a20a293f5\" y=\"125.542516\"/>\n    </g>\n    <g clip-path=\"url(#p6f11c176d2)\">\n     <use style=\"fill:#440154;stroke:#440154;\" x=\"114.786005\" xlink:href=\"#C0_0_1a20a293f5\" y=\"76.412551\"/>\n    </g>\n    <g clip-path=\"url(#p6f11c176d2)\">\n     <use style=\"fill:#440154;stroke:#440154;\" x=\"229.681861\" xlink:href=\"#C0_0_1a20a293f5\" y=\"94.795193\"/>\n    </g>\n    <g clip-path=\"url(#p6f11c176d2)\">\n     <use style=\"fill:#440154;stroke:#440154;\" x=\"138.161062\" xlink:href=\"#C0_0_1a20a293f5\" y=\"48.268751\"/>\n    </g>\n    <g clip-path=\"url(#p6f11c176d2)\">\n     <use style=\"fill:#440154;stroke:#440154;\" x=\"82.64167\" xlink:href=\"#C0_0_1a20a293f5\" y=\"188.89261\"/>\n    </g>\n    <g clip-path=\"url(#p6f11c176d2)\">\n     <use style=\"fill:#fde725;stroke:#fde725;\" x=\"230.258364\" xlink:href=\"#C0_0_1a20a293f5\" y=\"198.270571\"/>\n    </g>\n    <g clip-path=\"url(#p6f11c176d2)\">\n     <use style=\"fill:#fde725;stroke:#fde725;\" x=\"202.775009\" xlink:href=\"#C0_0_1a20a293f5\" y=\"163.734578\"/>\n    </g>\n    <g clip-path=\"url(#p6f11c176d2)\">\n     <use style=\"fill:#440154;stroke:#440154;\" x=\"245.229999\" xlink:href=\"#C0_0_1a20a293f5\" y=\"173.625838\"/>\n    </g>\n    <g clip-path=\"url(#p6f11c176d2)\">\n     <use style=\"fill:#fde725;stroke:#fde725;\" x=\"330.508489\" xlink:href=\"#C0_0_1a20a293f5\" y=\"185.714919\"/>\n    </g>\n    <g clip-path=\"url(#p6f11c176d2)\">\n     <use style=\"fill:#fde725;stroke:#fde725;\" x=\"172.875143\" xlink:href=\"#C0_0_1a20a293f5\" y=\"138.449033\"/>\n    </g>\n    <g clip-path=\"url(#p6f11c176d2)\">\n     <use style=\"fill:#fde725;stroke:#fde725;\" x=\"262.175167\" xlink:href=\"#C0_0_1a20a293f5\" y=\"210.164053\"/>\n    </g>\n    <g clip-path=\"url(#p6f11c176d2)\">\n     <use style=\"fill:#440154;stroke:#440154;\" x=\"226.014619\" xlink:href=\"#C0_0_1a20a293f5\" y=\"95.299291\"/>\n    </g>\n    <g clip-path=\"url(#p6f11c176d2)\">\n     <use style=\"fill:#fde725;stroke:#fde725;\" x=\"195.544368\" xlink:href=\"#C0_0_1a20a293f5\" y=\"116.745016\"/>\n    </g>\n    <g clip-path=\"url(#p6f11c176d2)\">\n     <use style=\"fill:#440154;stroke:#440154;\" x=\"209.144836\" xlink:href=\"#C0_0_1a20a293f5\" y=\"53.27694\"/>\n    </g>\n    <g clip-path=\"url(#p6f11c176d2)\">\n     <use style=\"fill:#fde725;stroke:#fde725;\" x=\"253.025599\" xlink:href=\"#C0_0_1a20a293f5\" y=\"186.645561\"/>\n    </g>\n    <g clip-path=\"url(#p6f11c176d2)\">\n     <use style=\"fill:#440154;stroke:#440154;\" x=\"247.579165\" xlink:href=\"#C0_0_1a20a293f5\" y=\"152.183071\"/>\n    </g>\n    <g clip-path=\"url(#p6f11c176d2)\">\n     <use style=\"fill:#440154;stroke:#440154;\" x=\"53.700994\" xlink:href=\"#C0_0_1a20a293f5\" y=\"127.693035\"/>\n    </g>\n    <g clip-path=\"url(#p6f11c176d2)\">\n     <use style=\"fill:#440154;stroke:#440154;\" x=\"274.39826\" xlink:href=\"#C0_0_1a20a293f5\" y=\"138.59583\"/>\n    </g>\n    <g clip-path=\"url(#p6f11c176d2)\">\n     <use style=\"fill:#fde725;stroke:#fde725;\" x=\"310.937542\" xlink:href=\"#C0_0_1a20a293f5\" y=\"183.643005\"/>\n    </g>\n    <g clip-path=\"url(#p6f11c176d2)\">\n     <use style=\"fill:#fde725;stroke:#fde725;\" x=\"249.120838\" xlink:href=\"#C0_0_1a20a293f5\" y=\"205.262354\"/>\n    </g>\n    <g clip-path=\"url(#p6f11c176d2)\">\n     <use style=\"fill:#440154;stroke:#440154;\" x=\"90.70969\" xlink:href=\"#C0_0_1a20a293f5\" y=\"170.261388\"/>\n    </g>\n    <g clip-path=\"url(#p6f11c176d2)\">\n     <use style=\"fill:#fde725;stroke:#fde725;\" x=\"279.05268\" xlink:href=\"#C0_0_1a20a293f5\" y=\"206.000761\"/>\n    </g>\n    <g clip-path=\"url(#p6f11c176d2)\">\n     <use style=\"fill:#440154;stroke:#440154;\" x=\"166.627321\" xlink:href=\"#C0_0_1a20a293f5\" y=\"17.083636\"/>\n    </g>\n    <g clip-path=\"url(#p6f11c176d2)\">\n     <use style=\"fill:#440154;stroke:#440154;\" x=\"56.965355\" xlink:href=\"#C0_0_1a20a293f5\" y=\"118.166462\"/>\n    </g>\n    <g clip-path=\"url(#p6f11c176d2)\">\n     <use style=\"fill:#440154;stroke:#440154;\" x=\"88.960094\" xlink:href=\"#C0_0_1a20a293f5\" y=\"103.401518\"/>\n    </g>\n    <g clip-path=\"url(#p6f11c176d2)\">\n     <use style=\"fill:#fde725;stroke:#fde725;\" x=\"358.064631\" xlink:href=\"#C0_0_1a20a293f5\" y=\"139.375521\"/>\n    </g>\n    <g clip-path=\"url(#p6f11c176d2)\">\n     <use style=\"fill:#440154;stroke:#440154;\" x=\"74.277906\" xlink:href=\"#C0_0_1a20a293f5\" y=\"115.54057\"/>\n    </g>\n    <g clip-path=\"url(#p6f11c176d2)\">\n     <use style=\"fill:#440154;stroke:#440154;\" x=\"207.701958\" xlink:href=\"#C0_0_1a20a293f5\" y=\"101.175588\"/>\n    </g>\n    <g clip-path=\"url(#p6f11c176d2)\">\n     <use style=\"fill:#fde725;stroke:#fde725;\" x=\"336.340413\" xlink:href=\"#C0_0_1a20a293f5\" y=\"166.684205\"/>\n    </g>\n    <g clip-path=\"url(#p6f11c176d2)\">\n     <use style=\"fill:#440154;stroke:#440154;\" x=\"134.712269\" xlink:href=\"#C0_0_1a20a293f5\" y=\"72.087994\"/>\n    </g>\n    <g clip-path=\"url(#p6f11c176d2)\">\n     <use style=\"fill:#fde725;stroke:#fde725;\" x=\"196.936756\" xlink:href=\"#C0_0_1a20a293f5\" y=\"173.553167\"/>\n    </g>\n    <g clip-path=\"url(#p6f11c176d2)\">\n     <use style=\"fill:#fde725;stroke:#fde725;\" x=\"278.0793\" xlink:href=\"#C0_0_1a20a293f5\" y=\"167.063394\"/>\n    </g>\n   </g>\n   <g id=\"matplotlib.axis_1\">\n    <g id=\"xtick_1\">\n     <g id=\"line2d_1\">\n      <defs>\n       <path d=\"M 0 0 \nL 0 3.5 \n\" id=\"m88a960d9e9\" style=\"stroke:#000000;stroke-width:0.8;\"/>\n      </defs>\n      <g>\n       <use style=\"stroke:#000000;stroke-width:0.8;\" x=\"74.145521\" xlink:href=\"#m88a960d9e9\" y=\"224.64\"/>\n      </g>\n     </g>\n     <g id=\"text_1\">\n      <!-- −1.0 -->\n      <defs>\n       <path d=\"M 10.59375 35.5 \nL 73.1875 35.5 \nL 73.1875 27.203125 \nL 10.59375 27.203125 \nz\n\" id=\"DejaVuSans-8722\"/>\n       <path d=\"M 12.40625 8.296875 \nL 28.515625 8.296875 \nL 28.515625 63.921875 \nL 10.984375 60.40625 \nL 10.984375 69.390625 \nL 28.421875 72.90625 \nL 38.28125 72.90625 \nL 38.28125 8.296875 \nL 54.390625 8.296875 \nL 54.390625 0 \nL 12.40625 0 \nz\n\" id=\"DejaVuSans-49\"/>\n       <path d=\"M 10.6875 12.40625 \nL 21 12.40625 \nL 21 0 \nL 10.6875 0 \nz\n\" id=\"DejaVuSans-46\"/>\n       <path d=\"M 31.78125 66.40625 \nQ 24.171875 66.40625 20.328125 58.90625 \nQ 16.5 51.421875 16.5 36.375 \nQ 16.5 21.390625 20.328125 13.890625 \nQ 24.171875 6.390625 31.78125 6.390625 \nQ 39.453125 6.390625 43.28125 13.890625 \nQ 47.125 21.390625 47.125 36.375 \nQ 47.125 51.421875 43.28125 58.90625 \nQ 39.453125 66.40625 31.78125 66.40625 \nz\nM 31.78125 74.21875 \nQ 44.046875 74.21875 50.515625 64.515625 \nQ 56.984375 54.828125 56.984375 36.375 \nQ 56.984375 17.96875 50.515625 8.265625 \nQ 44.046875 -1.421875 31.78125 -1.421875 \nQ 19.53125 -1.421875 13.0625 8.265625 \nQ 6.59375 17.96875 6.59375 36.375 \nQ 6.59375 54.828125 13.0625 64.515625 \nQ 19.53125 74.21875 31.78125 74.21875 \nz\n\" id=\"DejaVuSans-48\"/>\n      </defs>\n      <g transform=\"translate(62.004114 239.238437)scale(0.1 -0.1)\">\n       <use xlink:href=\"#DejaVuSans-8722\"/>\n       <use x=\"83.789062\" xlink:href=\"#DejaVuSans-49\"/>\n       <use x=\"147.412109\" xlink:href=\"#DejaVuSans-46\"/>\n       <use x=\"179.199219\" xlink:href=\"#DejaVuSans-48\"/>\n      </g>\n     </g>\n    </g>\n    <g id=\"xtick_2\">\n     <g id=\"line2d_2\">\n      <g>\n       <use style=\"stroke:#000000;stroke-width:0.8;\" x=\"120.533521\" xlink:href=\"#m88a960d9e9\" y=\"224.64\"/>\n      </g>\n     </g>\n     <g id=\"text_2\">\n      <!-- −0.5 -->\n      <defs>\n       <path d=\"M 10.796875 72.90625 \nL 49.515625 72.90625 \nL 49.515625 64.59375 \nL 19.828125 64.59375 \nL 19.828125 46.734375 \nQ 21.96875 47.46875 24.109375 47.828125 \nQ 26.265625 48.1875 28.421875 48.1875 \nQ 40.625 48.1875 47.75 41.5 \nQ 54.890625 34.8125 54.890625 23.390625 \nQ 54.890625 11.625 47.5625 5.09375 \nQ 40.234375 -1.421875 26.90625 -1.421875 \nQ 22.3125 -1.421875 17.546875 -0.640625 \nQ 12.796875 0.140625 7.71875 1.703125 \nL 7.71875 11.625 \nQ 12.109375 9.234375 16.796875 8.0625 \nQ 21.484375 6.890625 26.703125 6.890625 \nQ 35.15625 6.890625 40.078125 11.328125 \nQ 45.015625 15.765625 45.015625 23.390625 \nQ 45.015625 31 40.078125 35.4375 \nQ 35.15625 39.890625 26.703125 39.890625 \nQ 22.75 39.890625 18.8125 39.015625 \nQ 14.890625 38.140625 10.796875 36.28125 \nz\n\" id=\"DejaVuSans-53\"/>\n      </defs>\n      <g transform=\"translate(108.392115 239.238437)scale(0.1 -0.1)\">\n       <use xlink:href=\"#DejaVuSans-8722\"/>\n       <use x=\"83.789062\" xlink:href=\"#DejaVuSans-48\"/>\n       <use x=\"147.412109\" xlink:href=\"#DejaVuSans-46\"/>\n       <use x=\"179.199219\" xlink:href=\"#DejaVuSans-53\"/>\n      </g>\n     </g>\n    </g>\n    <g id=\"xtick_3\">\n     <g id=\"line2d_3\">\n      <g>\n       <use style=\"stroke:#000000;stroke-width:0.8;\" x=\"166.921522\" xlink:href=\"#m88a960d9e9\" y=\"224.64\"/>\n      </g>\n     </g>\n     <g id=\"text_3\">\n      <!-- 0.0 -->\n      <g transform=\"translate(158.96996 239.238437)scale(0.1 -0.1)\">\n       <use xlink:href=\"#DejaVuSans-48\"/>\n       <use x=\"63.623047\" xlink:href=\"#DejaVuSans-46\"/>\n       <use x=\"95.410156\" xlink:href=\"#DejaVuSans-48\"/>\n      </g>\n     </g>\n    </g>\n    <g id=\"xtick_4\">\n     <g id=\"line2d_4\">\n      <g>\n       <use style=\"stroke:#000000;stroke-width:0.8;\" x=\"213.309523\" xlink:href=\"#m88a960d9e9\" y=\"224.64\"/>\n      </g>\n     </g>\n     <g id=\"text_4\">\n      <!-- 0.5 -->\n      <g transform=\"translate(205.357961 239.238437)scale(0.1 -0.1)\">\n       <use xlink:href=\"#DejaVuSans-48\"/>\n       <use x=\"63.623047\" xlink:href=\"#DejaVuSans-46\"/>\n       <use x=\"95.410156\" xlink:href=\"#DejaVuSans-53\"/>\n      </g>\n     </g>\n    </g>\n    <g id=\"xtick_5\">\n     <g id=\"line2d_5\">\n      <g>\n       <use style=\"stroke:#000000;stroke-width:0.8;\" x=\"259.697524\" xlink:href=\"#m88a960d9e9\" y=\"224.64\"/>\n      </g>\n     </g>\n     <g id=\"text_5\">\n      <!-- 1.0 -->\n      <g transform=\"translate(251.745962 239.238437)scale(0.1 -0.1)\">\n       <use xlink:href=\"#DejaVuSans-49\"/>\n       <use x=\"63.623047\" xlink:href=\"#DejaVuSans-46\"/>\n       <use x=\"95.410156\" xlink:href=\"#DejaVuSans-48\"/>\n      </g>\n     </g>\n    </g>\n    <g id=\"xtick_6\">\n     <g id=\"line2d_6\">\n      <g>\n       <use style=\"stroke:#000000;stroke-width:0.8;\" x=\"306.085525\" xlink:href=\"#m88a960d9e9\" y=\"224.64\"/>\n      </g>\n     </g>\n     <g id=\"text_6\">\n      <!-- 1.5 -->\n      <g transform=\"translate(298.133962 239.238437)scale(0.1 -0.1)\">\n       <use xlink:href=\"#DejaVuSans-49\"/>\n       <use x=\"63.623047\" xlink:href=\"#DejaVuSans-46\"/>\n       <use x=\"95.410156\" xlink:href=\"#DejaVuSans-53\"/>\n      </g>\n     </g>\n    </g>\n    <g id=\"xtick_7\">\n     <g id=\"line2d_7\">\n      <g>\n       <use style=\"stroke:#000000;stroke-width:0.8;\" x=\"352.473526\" xlink:href=\"#m88a960d9e9\" y=\"224.64\"/>\n      </g>\n     </g>\n     <g id=\"text_7\">\n      <!-- 2.0 -->\n      <defs>\n       <path d=\"M 19.1875 8.296875 \nL 53.609375 8.296875 \nL 53.609375 0 \nL 7.328125 0 \nL 7.328125 8.296875 \nQ 12.9375 14.109375 22.625 23.890625 \nQ 32.328125 33.6875 34.8125 36.53125 \nQ 39.546875 41.84375 41.421875 45.53125 \nQ 43.3125 49.21875 43.3125 52.78125 \nQ 43.3125 58.59375 39.234375 62.25 \nQ 35.15625 65.921875 28.609375 65.921875 \nQ 23.96875 65.921875 18.8125 64.3125 \nQ 13.671875 62.703125 7.8125 59.421875 \nL 7.8125 69.390625 \nQ 13.765625 71.78125 18.9375 73 \nQ 24.125 74.21875 28.421875 74.21875 \nQ 39.75 74.21875 46.484375 68.546875 \nQ 53.21875 62.890625 53.21875 53.421875 \nQ 53.21875 48.921875 51.53125 44.890625 \nQ 49.859375 40.875 45.40625 35.40625 \nQ 44.1875 33.984375 37.640625 27.21875 \nQ 31.109375 20.453125 19.1875 8.296875 \nz\n\" id=\"DejaVuSans-50\"/>\n      </defs>\n      <g transform=\"translate(344.521963 239.238437)scale(0.1 -0.1)\">\n       <use xlink:href=\"#DejaVuSans-50\"/>\n       <use x=\"63.623047\" xlink:href=\"#DejaVuSans-46\"/>\n       <use x=\"95.410156\" xlink:href=\"#DejaVuSans-48\"/>\n      </g>\n     </g>\n    </g>\n   </g>\n   <g id=\"matplotlib.axis_2\">\n    <g id=\"ytick_1\">\n     <g id=\"line2d_8\">\n      <defs>\n       <path d=\"M 0 0 \nL -3.5 0 \n\" id=\"m9bbb5152f8\" style=\"stroke:#000000;stroke-width:0.8;\"/>\n      </defs>\n      <g>\n       <use style=\"stroke:#000000;stroke-width:0.8;\" x=\"38.482813\" xlink:href=\"#m9bbb5152f8\" y=\"203.711068\"/>\n      </g>\n     </g>\n     <g id=\"text_8\">\n      <!-- −0.5 -->\n      <g transform=\"translate(7.2 207.510286)scale(0.1 -0.1)\">\n       <use xlink:href=\"#DejaVuSans-8722\"/>\n       <use x=\"83.789062\" xlink:href=\"#DejaVuSans-48\"/>\n       <use x=\"147.412109\" xlink:href=\"#DejaVuSans-46\"/>\n       <use x=\"179.199219\" xlink:href=\"#DejaVuSans-53\"/>\n      </g>\n     </g>\n    </g>\n    <g id=\"ytick_2\">\n     <g id=\"line2d_9\">\n      <g>\n       <use style=\"stroke:#000000;stroke-width:0.8;\" x=\"38.482813\" xlink:href=\"#m9bbb5152f8\" y=\"158.295387\"/>\n      </g>\n     </g>\n     <g id=\"text_9\">\n      <!-- 0.0 -->\n      <g transform=\"translate(15.579688 162.094605)scale(0.1 -0.1)\">\n       <use xlink:href=\"#DejaVuSans-48\"/>\n       <use x=\"63.623047\" xlink:href=\"#DejaVuSans-46\"/>\n       <use x=\"95.410156\" xlink:href=\"#DejaVuSans-48\"/>\n      </g>\n     </g>\n    </g>\n    <g id=\"ytick_3\">\n     <g id=\"line2d_10\">\n      <g>\n       <use style=\"stroke:#000000;stroke-width:0.8;\" x=\"38.482813\" xlink:href=\"#m9bbb5152f8\" y=\"112.879705\"/>\n      </g>\n     </g>\n     <g id=\"text_10\">\n      <!-- 0.5 -->\n      <g transform=\"translate(15.579688 116.678924)scale(0.1 -0.1)\">\n       <use xlink:href=\"#DejaVuSans-48\"/>\n       <use x=\"63.623047\" xlink:href=\"#DejaVuSans-46\"/>\n       <use x=\"95.410156\" xlink:href=\"#DejaVuSans-53\"/>\n      </g>\n     </g>\n    </g>\n    <g id=\"ytick_4\">\n     <g id=\"line2d_11\">\n      <g>\n       <use style=\"stroke:#000000;stroke-width:0.8;\" x=\"38.482813\" xlink:href=\"#m9bbb5152f8\" y=\"67.464024\"/>\n      </g>\n     </g>\n     <g id=\"text_11\">\n      <!-- 1.0 -->\n      <g transform=\"translate(15.579688 71.263243)scale(0.1 -0.1)\">\n       <use xlink:href=\"#DejaVuSans-49\"/>\n       <use x=\"63.623047\" xlink:href=\"#DejaVuSans-46\"/>\n       <use x=\"95.410156\" xlink:href=\"#DejaVuSans-48\"/>\n      </g>\n     </g>\n    </g>\n    <g id=\"ytick_5\">\n     <g id=\"line2d_12\">\n      <g>\n       <use style=\"stroke:#000000;stroke-width:0.8;\" x=\"38.482813\" xlink:href=\"#m9bbb5152f8\" y=\"22.048343\"/>\n      </g>\n     </g>\n     <g id=\"text_12\">\n      <!-- 1.5 -->\n      <g transform=\"translate(15.579688 25.847562)scale(0.1 -0.1)\">\n       <use xlink:href=\"#DejaVuSans-49\"/>\n       <use x=\"63.623047\" xlink:href=\"#DejaVuSans-46\"/>\n       <use x=\"95.410156\" xlink:href=\"#DejaVuSans-53\"/>\n      </g>\n     </g>\n    </g>\n   </g>\n   <g id=\"patch_3\">\n    <path d=\"M 38.482813 224.64 \nL 38.482813 7.2 \n\" style=\"fill:none;stroke:#000000;stroke-linecap:square;stroke-linejoin:miter;stroke-width:0.8;\"/>\n   </g>\n   <g id=\"patch_4\">\n    <path d=\"M 373.282813 224.64 \nL 373.282813 7.2 \n\" style=\"fill:none;stroke:#000000;stroke-linecap:square;stroke-linejoin:miter;stroke-width:0.8;\"/>\n   </g>\n   <g id=\"patch_5\">\n    <path d=\"M 38.482812 224.64 \nL 373.282812 224.64 \n\" style=\"fill:none;stroke:#000000;stroke-linecap:square;stroke-linejoin:miter;stroke-width:0.8;\"/>\n   </g>\n   <g id=\"patch_6\">\n    <path d=\"M 38.482812 7.2 \nL 373.282812 7.2 \n\" style=\"fill:none;stroke:#000000;stroke-linecap:square;stroke-linejoin:miter;stroke-width:0.8;\"/>\n   </g>\n  </g>\n </g>\n <defs>\n  <clipPath id=\"p6f11c176d2\">\n   <rect height=\"217.44\" width=\"334.8\" x=\"38.482813\" y=\"7.2\"/>\n  </clipPath>\n </defs>\n</svg>\n",
      "image/png": "[encoded data removed]"
     },
     "metadata": {
      "needs_background": "light"
     }
    }
   ],
   "source": [
    "plt.scatter(X[:,0],X[:,1],c=y)"
   ]
  },
  {
   "cell_type": "markdown",
   "metadata": {},
   "source": [
    "### Some preprocessing required"
   ]
  },
  {
   "cell_type": "code",
   "execution_count": 68,
   "metadata": {},
   "outputs": [],
   "source": [
    "# PREPROCESSING - write a sigmoid function\n",
    "def sigmoid(x):\n",
    "    return 1 / (1+np.exp(-x))"
   ]
  },
  {
   "cell_type": "code",
   "execution_count": 69,
   "metadata": {},
   "outputs": [],
   "source": [
    "# PREPROCESSING - adding a bias neuron to X\n",
    "def add_bias(X):\n",
    "    return np.hstack([X, np.ones((X.shape[0], 1))])"
   ]
  },
  {
   "cell_type": "code",
   "execution_count": 70,
   "metadata": {},
   "outputs": [],
   "source": [
    "X_bias = add_bias(X)"
   ]
  },
  {
   "cell_type": "code",
   "execution_count": 71,
   "metadata": {},
   "outputs": [
    {
     "output_type": "execute_result",
     "data": {
      "text/plain": [
       "array([-0.15856989,  0.98480618,  1.        ])"
      ]
     },
     "metadata": {},
     "execution_count": 71
    }
   ],
   "source": [
    "X_bias[0]"
   ]
  },
  {
   "cell_type": "code",
   "execution_count": 136,
   "metadata": {},
   "outputs": [
    {
     "output_type": "execute_result",
     "data": {
      "text/plain": [
       "(3,)"
      ]
     },
     "metadata": {},
     "execution_count": 136
    }
   ],
   "source": [
    "X_bias[0].shape"
   ]
  },
  {
   "cell_type": "code",
   "execution_count": 73,
   "metadata": {},
   "outputs": [],
   "source": [
    "# PREPROCESSING - make the weight matrices - shape of w1 is 3,2\n",
    "w1 = np.random.random(size=(3,2))\n",
    "#shape of w2 is 3,1\n",
    "w2 = np.random.random(size=(3,1))\n",
    "\n",
    "weights = [w1,w2]"
   ]
  },
  {
   "cell_type": "markdown",
   "metadata": {},
   "source": [
    "### Now recreating the feed forward function"
   ]
  },
  {
   "cell_type": "code",
   "execution_count": 74,
   "metadata": {},
   "outputs": [],
   "source": [
    "# step 1- dot product of input data and weight matrix 1\n",
    "step1 = np.dot(X_bias, weights[0])"
   ]
  },
  {
   "cell_type": "code",
   "execution_count": 75,
   "metadata": {},
   "outputs": [
    {
     "output_type": "execute_result",
     "data": {
      "text/plain": [
       "((50, 3), (3, 2), (50, 2))"
      ]
     },
     "metadata": {},
     "execution_count": 75
    }
   ],
   "source": [
    "# dot product of 50,3 and 3,2 is 50,2\n",
    "X_bias.shape, weights[0].shape, step1.shape"
   ]
  },
  {
   "cell_type": "code",
   "execution_count": 76,
   "metadata": {},
   "outputs": [],
   "source": [
    "# pass the result of step1 through and activation function\n",
    "step2 = sigmoid(step1)"
   ]
  },
  {
   "cell_type": "code",
   "execution_count": 77,
   "metadata": {},
   "outputs": [
    {
     "output_type": "execute_result",
     "data": {
      "text/plain": [
       "(50, 2)"
      ]
     },
     "metadata": {},
     "execution_count": 77
    }
   ],
   "source": [
    "step2.shape"
   ]
  },
  {
   "cell_type": "code",
   "execution_count": 78,
   "metadata": {},
   "outputs": [],
   "source": [
    "# add bias neuron\n",
    "step3 = np.hstack([step2, np.ones((step2.shape[0], 1))])"
   ]
  },
  {
   "cell_type": "code",
   "execution_count": 79,
   "metadata": {},
   "outputs": [
    {
     "output_type": "execute_result",
     "data": {
      "text/plain": [
       "(50, 3)"
      ]
     },
     "metadata": {},
     "execution_count": 79
    }
   ],
   "source": [
    "step3.shape"
   ]
  },
  {
   "cell_type": "code",
   "execution_count": 80,
   "metadata": {},
   "outputs": [],
   "source": [
    "# dot product \n",
    "step4 = np.dot(step3, weights[1])"
   ]
  },
  {
   "cell_type": "code",
   "execution_count": 81,
   "metadata": {},
   "outputs": [
    {
     "output_type": "execute_result",
     "data": {
      "text/plain": [
       "((50, 3), (3, 1), (50, 1))"
      ]
     },
     "metadata": {},
     "execution_count": 81
    }
   ],
   "source": [
    "step3.shape, weights[1].shape, step4.shape"
   ]
  },
  {
   "cell_type": "code",
   "execution_count": 132,
   "metadata": {},
   "outputs": [],
   "source": [
    "# sigmoid activation\n",
    "step5 = sigmoid(step4)"
   ]
  },
  {
   "cell_type": "code",
   "execution_count": 133,
   "metadata": {},
   "outputs": [
    {
     "output_type": "execute_result",
     "data": {
      "text/plain": [
       "(50, 1)"
      ]
     },
     "metadata": {},
     "execution_count": 133
    }
   ],
   "source": [
    "step5.shape"
   ]
  },
  {
   "cell_type": "code",
   "execution_count": 134,
   "metadata": {},
   "outputs": [],
   "source": [
    "# ypred\n",
    "ypred = step5"
   ]
  },
  {
   "cell_type": "code",
   "execution_count": 135,
   "metadata": {},
   "outputs": [
    {
     "output_type": "execute_result",
     "data": {
      "text/plain": [
       "(50, 1)"
      ]
     },
     "metadata": {},
     "execution_count": 135
    }
   ],
   "source": [
    "ypred.shape"
   ]
  },
  {
   "cell_type": "markdown",
   "metadata": {},
   "source": [
    "### Here's the function in its totality (cf the backprop lecture)"
   ]
  },
  {
   "cell_type": "code",
   "execution_count": 166,
   "metadata": {},
   "outputs": [],
   "source": [
    "def feed_forward(X, weights):\n",
    "\n",
    "    ''' STEP 1. calculate the dot product of X\n",
    "    (shape of (50,3))\n",
    "    and the weights of the first layer\n",
    "    (shape of (3, 2))\n",
    "    this results in an output shape of (50, 2)'''\n",
    "    step1 = np.dot(X, weights[0])\n",
    "\n",
    "\n",
    "    ''' STEP 2. apply the sigmoid function on the result\n",
    "    (applying the sigmoid function on a 50x2 matrix outputs the same shape.\n",
    "    '''\n",
    "    step2 = sigmoid(step1)\n",
    "\n",
    "\n",
    "    ''' STEP 3. append an extra 1 for the bias to the result\n",
    "    (this results in a 50x3 matrix)'''\n",
    "    step3 = np.hstack([step2, np.ones((step2.shape[0], 1))])\n",
    "\n",
    "\n",
    "    ''' STEP 4. calculate the dot product of X (from step 3)\n",
    "    (shape of (50, 3))\n",
    "    and the weights of the second layer\n",
    "    (shape of (3, 1)). This results in an output shape of (50, 1)'''\n",
    "    step4 = np.dot(step3, weights[1])\n",
    "\n",
    "\n",
    "    ''' STEP 5. apply the sigmoid function on the result'''\n",
    "    step5 = sigmoid(step4)\n",
    "    return step2, step5"
   ]
  },
  {
   "cell_type": "code",
   "execution_count": 167,
   "metadata": {},
   "outputs": [],
   "source": [
    "#we can call it to get ypred\n",
    "step2, ypred = feed_forward(X_bias, weights)"
   ]
  },
  {
   "cell_type": "code",
   "execution_count": 168,
   "metadata": {},
   "outputs": [
    {
     "output_type": "execute_result",
     "data": {
      "text/plain": [
       "((50, 1), (50,))"
      ]
     },
     "metadata": {},
     "execution_count": 168
    }
   ],
   "source": [
    "#compare to actual data\n",
    "ypred.shape, y.shape"
   ]
  },
  {
   "cell_type": "code",
   "execution_count": 67,
   "metadata": {},
   "outputs": [],
   "source": [
    "#for a quasi loss -well use hte real loss (log loss) this afternoon\n",
    "quasi_loss = ypred - y"
   ]
  },
  {
   "cell_type": "markdown",
   "metadata": {},
   "source": [
    "### in ML, we improve our guess through gradient descent - in DL this is called Backpropagation - more on this this afternoon"
   ]
  },
  {
   "cell_type": "code",
   "execution_count": 141,
   "metadata": {},
   "outputs": [],
   "source": [
    "# Step 2 - Log-Loss function\n",
    "def log_loss(ytrue, ypred):\n",
    "    loss = -(ytrue * np.log(ypred) + (1 - ytrue) * np.log(1 - ypred))\n",
    "    return loss"
   ]
  },
  {
   "cell_type": "code",
   "execution_count": 142,
   "metadata": {},
   "outputs": [],
   "source": [
    "ytrue = np.array([0.0, 0.0, 1.0, 1.0])\n",
    "ypred = np.array([0.01, 0.99, 0.01, 0.99])\n",
    "expected = np.array([0.01, 4.61, 4.61, 0.01])\n",
    "assert np.all(log_loss(ytrue, ypred).round(2) == expected)"
   ]
  },
  {
   "cell_type": "code",
   "execution_count": 169,
   "metadata": {},
   "outputs": [],
   "source": [
    "# Step 3 - Get initial loss\n",
    "step2, step5 = feed_forward(X_bias, weights)\n",
    "ytrue = y.reshape(-1, 1)\n",
    "loss = log_loss(ytrue, step5)"
   ]
  },
  {
   "cell_type": "code",
   "execution_count": 170,
   "metadata": {},
   "outputs": [
    {
     "output_type": "execute_result",
     "data": {
      "text/plain": [
       "((50, 1), (50, 1), (50, 1))"
      ]
     },
     "metadata": {},
     "execution_count": 170
    }
   ],
   "source": [
    "step5.shape, ytrue.shape, loss.shape"
   ]
  },
  {
   "cell_type": "code",
   "execution_count": 153,
   "metadata": {},
   "outputs": [],
   "source": [
    "# Equation A\n",
    "error = (step5 - ytrue) * log_loss(ytrue , step5)"
   ]
  },
  {
   "cell_type": "code",
   "execution_count": 154,
   "metadata": {},
   "outputs": [],
   "source": [
    "'''EQUATION B:'''\n",
    "hidden_outer = add_bias(step2)"
   ]
  },
  {
   "cell_type": "code",
   "execution_count": 155,
   "metadata": {},
   "outputs": [],
   "source": [
    "sigm_der = step5 * (1 - step5)"
   ]
  },
  {
   "cell_type": "code",
   "execution_count": 156,
   "metadata": {},
   "outputs": [],
   "source": [
    "y_grad = sigm_der * error"
   ]
  },
  {
   "cell_type": "code",
   "execution_count": 157,
   "metadata": {},
   "outputs": [],
   "source": [
    "delta_wo = -np.dot(y_grad.T, hidden_outer ) * 0.1"
   ]
  },
  {
   "cell_type": "code",
   "execution_count": 158,
   "metadata": {},
   "outputs": [
    {
     "output_type": "execute_result",
     "data": {
      "text/plain": [
       "(50, 2)"
      ]
     },
     "metadata": {},
     "execution_count": 158
    }
   ],
   "source": [
    " sig_deriv_2 = step2 * ( 1 - step2)\n",
    " sig_deriv_2.shape"
   ]
  },
  {
   "cell_type": "code",
   "execution_count": 159,
   "metadata": {},
   "outputs": [
    {
     "output_type": "execute_result",
     "data": {
      "text/plain": [
       "(50, 2)"
      ]
     },
     "metadata": {},
     "execution_count": 159
    }
   ],
   "source": [
    "H_grad = sig_deriv_2  * np.dot(y_grad , weights[1][:-1].T)\n",
    "H_grad.shape"
   ]
  },
  {
   "cell_type": "code",
   "execution_count": 160,
   "metadata": {},
   "outputs": [
    {
     "output_type": "execute_result",
     "data": {
      "text/plain": [
       "(2, 3)"
      ]
     },
     "metadata": {},
     "execution_count": 160
    }
   ],
   "source": [
    "delta_wH = -np.dot(H_grad.T, X_bias) * 0.1\n",
    "delta_wH.shape"
   ]
  },
  {
   "cell_type": "code",
   "execution_count": 164,
   "metadata": {},
   "outputs": [],
   "source": [
    "# Step 4 - Backpropagation Function\n",
    "def backprop(weights, # weights to the hidden layer and output layer as list [(3, 2), (3,1)]\n",
    "             output1, # results of the sigmoid function on the dot product of X+bias and weights for the hidden layer (wH) - (50, 2)\n",
    "             output2, # results of the sigmoid function on the dot product of output 1 and weights for the outer layer (wO) - (50, 1)\n",
    "             ytrue,   # target values (50, 1)\n",
    "             X_input, # X+bias (50, 3)\n",
    "             LR):     # Learning rate\n",
    "\n",
    "    wH = weights[0]\n",
    "    wO = weights[1]\n",
    "\n",
    "    '''EQUATION A:'''\n",
    "    error = (output2  - ytrue) * log_loss(ytrue , output2)\n",
    "\n",
    "    '''EQUATION B:'''\n",
    "    hidden_out_with_bias = add_bias(output1)\n",
    "    #don't forget the bias!\n",
    "    sig_deriv = output2 * ( 1 - output2)\n",
    "    #derivative of the sigmoid function with respect to the\n",
    "    #hidden output * weights\n",
    "    y_grad = sig_deriv * error\n",
    "\n",
    "    '''EQUATION C:'''\n",
    "    delta_wo = -np.dot( y_grad.T, hidden_out_with_bias ) * LR\n",
    "\n",
    "    #and finally, old weights + delta weights -> new weights!\n",
    "    wO_new = wO + delta_wo.T\n",
    "\n",
    "    '''EQUATION D:'''\n",
    "    sig_deriv_2 = output1 * ( 1 - output1)\n",
    "    H_grad = sig_deriv_2  * np.dot(y_grad , wO[:-1].T)\n",
    "    #exclude the bias (last column) of the outer weights,\n",
    "    #since it is not backpropagated!\n",
    "\n",
    "    '''EQUATION E:'''\n",
    "    delta_wH = -np.dot(H_grad.T, X_input ) * LR\n",
    "    wH_new = wH + delta_wH.T\n",
    "    #old weights + delta weights -> new weights!\n",
    "\n",
    "    # new hidden weights, new output weights - (3,2) and (3,1)\n",
    "    return wH_new, wO_new"
   ]
  },
  {
   "cell_type": "code",
   "execution_count": 171,
   "metadata": {},
   "outputs": [
    {
     "output_type": "execute_result",
     "data": {
      "text/plain": [
       "(array([[ 0.71804053,  0.49484462],\n",
       "        [ 0.97640482,  0.5333119 ],\n",
       "        [ 0.85402945, -0.00605199]]),\n",
       " array([[ 0.05354794],\n",
       "        [-0.06097196],\n",
       "        [ 0.27915203]]))"
      ]
     },
     "metadata": {},
     "execution_count": 171
    }
   ],
   "source": [
    "backprop(weights, step2, step5, ytrue, X_bias, 0.1)"
   ]
  },
  {
   "cell_type": "code",
   "execution_count": 183,
   "metadata": {},
   "outputs": [],
   "source": [
    "def metrics(output_layer):\n",
    "    return output_layer.round(0)"
   ]
  },
  {
   "cell_type": "code",
   "execution_count": 181,
   "metadata": {},
   "outputs": [],
   "source": [
    "from sklearn.metrics import accuracy_score"
   ]
  },
  {
   "cell_type": "code",
   "execution_count": 190,
   "metadata": {},
   "outputs": [],
   "source": [
    "# Step 5\n",
    "# setup\n",
    "X, y = make_moons(n_samples=200, noise=0.1, random_state=42)\n",
    "X = add_bias(X)\n",
    "y = y.reshape(-1, 1)\n",
    "weights = [\n",
    "   np.random.normal(size=(3, 2)),\n",
    "   np.random.normal(size=(3, 1))\n",
    "]\n",
    "\n",
    "# train\n",
    "LOSS_VEC = []\n",
    "performance = []\n",
    "\n",
    "for i in range(1000):\n",
    "    out1, out2 = feed_forward(X, weights)\n",
    "    LOSS_VEC.append(log_loss(y, out2).sum())\n",
    "    new_weights = backprop(weights, out1, out2, y, X, 0.1)\n",
    "    performance.append(accuracy_score(y, metrics(out2)))\n",
    "    weights = new_weights"
   ]
  },
  {
   "cell_type": "code",
   "execution_count": 191,
   "metadata": {},
   "outputs": [
    {
     "output_type": "execute_result",
     "data": {
      "text/plain": [
       "Text(0, 0.5, 'Logg loss ')"
      ]
     },
     "metadata": {},
     "execution_count": 191
    },
    {
     "output_type": "display_data",
     "data": {
      "text/plain": "<Figure size 432x288 with 1 Axes>",
      "image/svg+xml": "<?xml version=\"1.0\" encoding=\"utf-8\" standalone=\"no\"?>\n<!DOCTYPE svg PUBLIC \"-//W3C//DTD SVG 1.1//EN\"\n  \"http://www.w3.org/Graphics/SVG/1.1/DTD/svg11.dtd\">\n<!-- Created with matplotlib (https://matplotlib.org/) -->\n<svg height=\"277.314375pt\" version=\"1.1\" viewBox=\"0 0 388.965625 277.314375\" width=\"388.965625pt\" xmlns=\"http://www.w3.org/2000/svg\" xmlns:xlink=\"http://www.w3.org/1999/xlink\">\n <defs>\n  <style type=\"text/css\">\n*{stroke-linecap:butt;stroke-linejoin:round;}\n  </style>\n </defs>\n <g id=\"figure_1\">\n  <g id=\"patch_1\">\n   <path d=\"M 0 277.314375 \nL 388.965625 277.314375 \nL 388.965625 0 \nL 0 0 \nz\n\" style=\"fill:none;\"/>\n  </g>\n  <g id=\"axes_1\">\n   <g id=\"patch_2\">\n    <path d=\"M 46.965625 239.758125 \nL 381.765625 239.758125 \nL 381.765625 22.318125 \nL 46.965625 22.318125 \nz\n\" style=\"fill:#ffffff;\"/>\n   </g>\n   <g id=\"matplotlib.axis_1\">\n    <g id=\"xtick_1\">\n     <g id=\"line2d_1\">\n      <defs>\n       <path d=\"M 0 0 \nL 0 3.5 \n\" id=\"mc31c51eaa3\" style=\"stroke:#000000;stroke-width:0.8;\"/>\n      </defs>\n      <g>\n       <use style=\"stroke:#000000;stroke-width:0.8;\" x=\"62.183807\" xlink:href=\"#mc31c51eaa3\" y=\"239.758125\"/>\n      </g>\n     </g>\n     <g id=\"text_1\">\n      <!-- 0 -->\n      <defs>\n       <path d=\"M 31.78125 66.40625 \nQ 24.171875 66.40625 20.328125 58.90625 \nQ 16.5 51.421875 16.5 36.375 \nQ 16.5 21.390625 20.328125 13.890625 \nQ 24.171875 6.390625 31.78125 6.390625 \nQ 39.453125 6.390625 43.28125 13.890625 \nQ 47.125 21.390625 47.125 36.375 \nQ 47.125 51.421875 43.28125 58.90625 \nQ 39.453125 66.40625 31.78125 66.40625 \nz\nM 31.78125 74.21875 \nQ 44.046875 74.21875 50.515625 64.515625 \nQ 56.984375 54.828125 56.984375 36.375 \nQ 56.984375 17.96875 50.515625 8.265625 \nQ 44.046875 -1.421875 31.78125 -1.421875 \nQ 19.53125 -1.421875 13.0625 8.265625 \nQ 6.59375 17.96875 6.59375 36.375 \nQ 6.59375 54.828125 13.0625 64.515625 \nQ 19.53125 74.21875 31.78125 74.21875 \nz\n\" id=\"DejaVuSans-48\"/>\n      </defs>\n      <g transform=\"translate(59.002557 254.356562)scale(0.1 -0.1)\">\n       <use xlink:href=\"#DejaVuSans-48\"/>\n      </g>\n     </g>\n    </g>\n    <g id=\"xtick_2\">\n     <g id=\"line2d_2\">\n      <g>\n       <use style=\"stroke:#000000;stroke-width:0.8;\" x=\"123.117468\" xlink:href=\"#mc31c51eaa3\" y=\"239.758125\"/>\n      </g>\n     </g>\n     <g id=\"text_2\">\n      <!-- 200 -->\n      <defs>\n       <path d=\"M 19.1875 8.296875 \nL 53.609375 8.296875 \nL 53.609375 0 \nL 7.328125 0 \nL 7.328125 8.296875 \nQ 12.9375 14.109375 22.625 23.890625 \nQ 32.328125 33.6875 34.8125 36.53125 \nQ 39.546875 41.84375 41.421875 45.53125 \nQ 43.3125 49.21875 43.3125 52.78125 \nQ 43.3125 58.59375 39.234375 62.25 \nQ 35.15625 65.921875 28.609375 65.921875 \nQ 23.96875 65.921875 18.8125 64.3125 \nQ 13.671875 62.703125 7.8125 59.421875 \nL 7.8125 69.390625 \nQ 13.765625 71.78125 18.9375 73 \nQ 24.125 74.21875 28.421875 74.21875 \nQ 39.75 74.21875 46.484375 68.546875 \nQ 53.21875 62.890625 53.21875 53.421875 \nQ 53.21875 48.921875 51.53125 44.890625 \nQ 49.859375 40.875 45.40625 35.40625 \nQ 44.1875 33.984375 37.640625 27.21875 \nQ 31.109375 20.453125 19.1875 8.296875 \nz\n\" id=\"DejaVuSans-50\"/>\n      </defs>\n      <g transform=\"translate(113.573718 254.356562)scale(0.1 -0.1)\">\n       <use xlink:href=\"#DejaVuSans-50\"/>\n       <use x=\"63.623047\" xlink:href=\"#DejaVuSans-48\"/>\n       <use x=\"127.246094\" xlink:href=\"#DejaVuSans-48\"/>\n      </g>\n     </g>\n    </g>\n    <g id=\"xtick_3\">\n     <g id=\"line2d_3\">\n      <g>\n       <use style=\"stroke:#000000;stroke-width:0.8;\" x=\"184.051129\" xlink:href=\"#mc31c51eaa3\" y=\"239.758125\"/>\n      </g>\n     </g>\n     <g id=\"text_3\">\n      <!-- 400 -->\n      <defs>\n       <path d=\"M 37.796875 64.3125 \nL 12.890625 25.390625 \nL 37.796875 25.390625 \nz\nM 35.203125 72.90625 \nL 47.609375 72.90625 \nL 47.609375 25.390625 \nL 58.015625 25.390625 \nL 58.015625 17.1875 \nL 47.609375 17.1875 \nL 47.609375 0 \nL 37.796875 0 \nL 37.796875 17.1875 \nL 4.890625 17.1875 \nL 4.890625 26.703125 \nz\n\" id=\"DejaVuSans-52\"/>\n      </defs>\n      <g transform=\"translate(174.507379 254.356562)scale(0.1 -0.1)\">\n       <use xlink:href=\"#DejaVuSans-52\"/>\n       <use x=\"63.623047\" xlink:href=\"#DejaVuSans-48\"/>\n       <use x=\"127.246094\" xlink:href=\"#DejaVuSans-48\"/>\n      </g>\n     </g>\n    </g>\n    <g id=\"xtick_4\">\n     <g id=\"line2d_4\">\n      <g>\n       <use style=\"stroke:#000000;stroke-width:0.8;\" x=\"244.98479\" xlink:href=\"#mc31c51eaa3\" y=\"239.758125\"/>\n      </g>\n     </g>\n     <g id=\"text_4\">\n      <!-- 600 -->\n      <defs>\n       <path d=\"M 33.015625 40.375 \nQ 26.375 40.375 22.484375 35.828125 \nQ 18.609375 31.296875 18.609375 23.390625 \nQ 18.609375 15.53125 22.484375 10.953125 \nQ 26.375 6.390625 33.015625 6.390625 \nQ 39.65625 6.390625 43.53125 10.953125 \nQ 47.40625 15.53125 47.40625 23.390625 \nQ 47.40625 31.296875 43.53125 35.828125 \nQ 39.65625 40.375 33.015625 40.375 \nz\nM 52.59375 71.296875 \nL 52.59375 62.3125 \nQ 48.875 64.0625 45.09375 64.984375 \nQ 41.3125 65.921875 37.59375 65.921875 \nQ 27.828125 65.921875 22.671875 59.328125 \nQ 17.53125 52.734375 16.796875 39.40625 \nQ 19.671875 43.65625 24.015625 45.921875 \nQ 28.375 48.1875 33.59375 48.1875 \nQ 44.578125 48.1875 50.953125 41.515625 \nQ 57.328125 34.859375 57.328125 23.390625 \nQ 57.328125 12.15625 50.6875 5.359375 \nQ 44.046875 -1.421875 33.015625 -1.421875 \nQ 20.359375 -1.421875 13.671875 8.265625 \nQ 6.984375 17.96875 6.984375 36.375 \nQ 6.984375 53.65625 15.1875 63.9375 \nQ 23.390625 74.21875 37.203125 74.21875 \nQ 40.921875 74.21875 44.703125 73.484375 \nQ 48.484375 72.75 52.59375 71.296875 \nz\n\" id=\"DejaVuSans-54\"/>\n      </defs>\n      <g transform=\"translate(235.44104 254.356562)scale(0.1 -0.1)\">\n       <use xlink:href=\"#DejaVuSans-54\"/>\n       <use x=\"63.623047\" xlink:href=\"#DejaVuSans-48\"/>\n       <use x=\"127.246094\" xlink:href=\"#DejaVuSans-48\"/>\n      </g>\n     </g>\n    </g>\n    <g id=\"xtick_5\">\n     <g id=\"line2d_5\">\n      <g>\n       <use style=\"stroke:#000000;stroke-width:0.8;\" x=\"305.918451\" xlink:href=\"#mc31c51eaa3\" y=\"239.758125\"/>\n      </g>\n     </g>\n     <g id=\"text_5\">\n      <!-- 800 -->\n      <defs>\n       <path d=\"M 31.78125 34.625 \nQ 24.75 34.625 20.71875 30.859375 \nQ 16.703125 27.09375 16.703125 20.515625 \nQ 16.703125 13.921875 20.71875 10.15625 \nQ 24.75 6.390625 31.78125 6.390625 \nQ 38.8125 6.390625 42.859375 10.171875 \nQ 46.921875 13.96875 46.921875 20.515625 \nQ 46.921875 27.09375 42.890625 30.859375 \nQ 38.875 34.625 31.78125 34.625 \nz\nM 21.921875 38.8125 \nQ 15.578125 40.375 12.03125 44.71875 \nQ 8.5 49.078125 8.5 55.328125 \nQ 8.5 64.0625 14.71875 69.140625 \nQ 20.953125 74.21875 31.78125 74.21875 \nQ 42.671875 74.21875 48.875 69.140625 \nQ 55.078125 64.0625 55.078125 55.328125 \nQ 55.078125 49.078125 51.53125 44.71875 \nQ 48 40.375 41.703125 38.8125 \nQ 48.828125 37.15625 52.796875 32.3125 \nQ 56.78125 27.484375 56.78125 20.515625 \nQ 56.78125 9.90625 50.3125 4.234375 \nQ 43.84375 -1.421875 31.78125 -1.421875 \nQ 19.734375 -1.421875 13.25 4.234375 \nQ 6.78125 9.90625 6.78125 20.515625 \nQ 6.78125 27.484375 10.78125 32.3125 \nQ 14.796875 37.15625 21.921875 38.8125 \nz\nM 18.3125 54.390625 \nQ 18.3125 48.734375 21.84375 45.5625 \nQ 25.390625 42.390625 31.78125 42.390625 \nQ 38.140625 42.390625 41.71875 45.5625 \nQ 45.3125 48.734375 45.3125 54.390625 \nQ 45.3125 60.0625 41.71875 63.234375 \nQ 38.140625 66.40625 31.78125 66.40625 \nQ 25.390625 66.40625 21.84375 63.234375 \nQ 18.3125 60.0625 18.3125 54.390625 \nz\n\" id=\"DejaVuSans-56\"/>\n      </defs>\n      <g transform=\"translate(296.374701 254.356562)scale(0.1 -0.1)\">\n       <use xlink:href=\"#DejaVuSans-56\"/>\n       <use x=\"63.623047\" xlink:href=\"#DejaVuSans-48\"/>\n       <use x=\"127.246094\" xlink:href=\"#DejaVuSans-48\"/>\n      </g>\n     </g>\n    </g>\n    <g id=\"xtick_6\">\n     <g id=\"line2d_6\">\n      <g>\n       <use style=\"stroke:#000000;stroke-width:0.8;\" x=\"366.852111\" xlink:href=\"#mc31c51eaa3\" y=\"239.758125\"/>\n      </g>\n     </g>\n     <g id=\"text_6\">\n      <!-- 1000 -->\n      <defs>\n       <path d=\"M 12.40625 8.296875 \nL 28.515625 8.296875 \nL 28.515625 63.921875 \nL 10.984375 60.40625 \nL 10.984375 69.390625 \nL 28.421875 72.90625 \nL 38.28125 72.90625 \nL 38.28125 8.296875 \nL 54.390625 8.296875 \nL 54.390625 0 \nL 12.40625 0 \nz\n\" id=\"DejaVuSans-49\"/>\n      </defs>\n      <g transform=\"translate(354.127111 254.356562)scale(0.1 -0.1)\">\n       <use xlink:href=\"#DejaVuSans-49\"/>\n       <use x=\"63.623047\" xlink:href=\"#DejaVuSans-48\"/>\n       <use x=\"127.246094\" xlink:href=\"#DejaVuSans-48\"/>\n       <use x=\"190.869141\" xlink:href=\"#DejaVuSans-48\"/>\n      </g>\n     </g>\n    </g>\n    <g id=\"text_7\">\n     <!-- # of Iterations -->\n     <defs>\n      <path d=\"M 51.125 44 \nL 36.921875 44 \nL 32.8125 27.6875 \nL 47.125 27.6875 \nz\nM 43.796875 71.78125 \nL 38.71875 51.515625 \nL 52.984375 51.515625 \nL 58.109375 71.78125 \nL 65.921875 71.78125 \nL 60.890625 51.515625 \nL 76.125 51.515625 \nL 76.125 44 \nL 58.984375 44 \nL 54.984375 27.6875 \nL 70.515625 27.6875 \nL 70.515625 20.21875 \nL 53.078125 20.21875 \nL 48 0 \nL 40.1875 0 \nL 45.21875 20.21875 \nL 30.90625 20.21875 \nL 25.875 0 \nL 18.015625 0 \nL 23.09375 20.21875 \nL 7.71875 20.21875 \nL 7.71875 27.6875 \nL 24.90625 27.6875 \nL 29 44 \nL 13.28125 44 \nL 13.28125 51.515625 \nL 30.90625 51.515625 \nL 35.890625 71.78125 \nz\n\" id=\"DejaVuSans-35\"/>\n      <path id=\"DejaVuSans-32\"/>\n      <path d=\"M 30.609375 48.390625 \nQ 23.390625 48.390625 19.1875 42.75 \nQ 14.984375 37.109375 14.984375 27.296875 \nQ 14.984375 17.484375 19.15625 11.84375 \nQ 23.34375 6.203125 30.609375 6.203125 \nQ 37.796875 6.203125 41.984375 11.859375 \nQ 46.1875 17.53125 46.1875 27.296875 \nQ 46.1875 37.015625 41.984375 42.703125 \nQ 37.796875 48.390625 30.609375 48.390625 \nz\nM 30.609375 56 \nQ 42.328125 56 49.015625 48.375 \nQ 55.71875 40.765625 55.71875 27.296875 \nQ 55.71875 13.875 49.015625 6.21875 \nQ 42.328125 -1.421875 30.609375 -1.421875 \nQ 18.84375 -1.421875 12.171875 6.21875 \nQ 5.515625 13.875 5.515625 27.296875 \nQ 5.515625 40.765625 12.171875 48.375 \nQ 18.84375 56 30.609375 56 \nz\n\" id=\"DejaVuSans-111\"/>\n      <path d=\"M 37.109375 75.984375 \nL 37.109375 68.5 \nL 28.515625 68.5 \nQ 23.6875 68.5 21.796875 66.546875 \nQ 19.921875 64.59375 19.921875 59.515625 \nL 19.921875 54.6875 \nL 34.71875 54.6875 \nL 34.71875 47.703125 \nL 19.921875 47.703125 \nL 19.921875 0 \nL 10.890625 0 \nL 10.890625 47.703125 \nL 2.296875 47.703125 \nL 2.296875 54.6875 \nL 10.890625 54.6875 \nL 10.890625 58.5 \nQ 10.890625 67.625 15.140625 71.796875 \nQ 19.390625 75.984375 28.609375 75.984375 \nz\n\" id=\"DejaVuSans-102\"/>\n      <path d=\"M 9.8125 72.90625 \nL 19.671875 72.90625 \nL 19.671875 0 \nL 9.8125 0 \nz\n\" id=\"DejaVuSans-73\"/>\n      <path d=\"M 18.3125 70.21875 \nL 18.3125 54.6875 \nL 36.8125 54.6875 \nL 36.8125 47.703125 \nL 18.3125 47.703125 \nL 18.3125 18.015625 \nQ 18.3125 11.328125 20.140625 9.421875 \nQ 21.96875 7.515625 27.59375 7.515625 \nL 36.8125 7.515625 \nL 36.8125 0 \nL 27.59375 0 \nQ 17.1875 0 13.234375 3.875 \nQ 9.28125 7.765625 9.28125 18.015625 \nL 9.28125 47.703125 \nL 2.6875 47.703125 \nL 2.6875 54.6875 \nL 9.28125 54.6875 \nL 9.28125 70.21875 \nz\n\" id=\"DejaVuSans-116\"/>\n      <path d=\"M 56.203125 29.59375 \nL 56.203125 25.203125 \nL 14.890625 25.203125 \nQ 15.484375 15.921875 20.484375 11.0625 \nQ 25.484375 6.203125 34.421875 6.203125 \nQ 39.59375 6.203125 44.453125 7.46875 \nQ 49.3125 8.734375 54.109375 11.28125 \nL 54.109375 2.78125 \nQ 49.265625 0.734375 44.1875 -0.34375 \nQ 39.109375 -1.421875 33.890625 -1.421875 \nQ 20.796875 -1.421875 13.15625 6.1875 \nQ 5.515625 13.8125 5.515625 26.8125 \nQ 5.515625 40.234375 12.765625 48.109375 \nQ 20.015625 56 32.328125 56 \nQ 43.359375 56 49.78125 48.890625 \nQ 56.203125 41.796875 56.203125 29.59375 \nz\nM 47.21875 32.234375 \nQ 47.125 39.59375 43.09375 43.984375 \nQ 39.0625 48.390625 32.421875 48.390625 \nQ 24.90625 48.390625 20.390625 44.140625 \nQ 15.875 39.890625 15.1875 32.171875 \nz\n\" id=\"DejaVuSans-101\"/>\n      <path d=\"M 41.109375 46.296875 \nQ 39.59375 47.171875 37.8125 47.578125 \nQ 36.03125 48 33.890625 48 \nQ 26.265625 48 22.1875 43.046875 \nQ 18.109375 38.09375 18.109375 28.8125 \nL 18.109375 0 \nL 9.078125 0 \nL 9.078125 54.6875 \nL 18.109375 54.6875 \nL 18.109375 46.1875 \nQ 20.953125 51.171875 25.484375 53.578125 \nQ 30.03125 56 36.53125 56 \nQ 37.453125 56 38.578125 55.875 \nQ 39.703125 55.765625 41.0625 55.515625 \nz\n\" id=\"DejaVuSans-114\"/>\n      <path d=\"M 34.28125 27.484375 \nQ 23.390625 27.484375 19.1875 25 \nQ 14.984375 22.515625 14.984375 16.5 \nQ 14.984375 11.71875 18.140625 8.90625 \nQ 21.296875 6.109375 26.703125 6.109375 \nQ 34.1875 6.109375 38.703125 11.40625 \nQ 43.21875 16.703125 43.21875 25.484375 \nL 43.21875 27.484375 \nz\nM 52.203125 31.203125 \nL 52.203125 0 \nL 43.21875 0 \nL 43.21875 8.296875 \nQ 40.140625 3.328125 35.546875 0.953125 \nQ 30.953125 -1.421875 24.3125 -1.421875 \nQ 15.921875 -1.421875 10.953125 3.296875 \nQ 6 8.015625 6 15.921875 \nQ 6 25.140625 12.171875 29.828125 \nQ 18.359375 34.515625 30.609375 34.515625 \nL 43.21875 34.515625 \nL 43.21875 35.40625 \nQ 43.21875 41.609375 39.140625 45 \nQ 35.0625 48.390625 27.6875 48.390625 \nQ 23 48.390625 18.546875 47.265625 \nQ 14.109375 46.140625 10.015625 43.890625 \nL 10.015625 52.203125 \nQ 14.9375 54.109375 19.578125 55.046875 \nQ 24.21875 56 28.609375 56 \nQ 40.484375 56 46.34375 49.84375 \nQ 52.203125 43.703125 52.203125 31.203125 \nz\n\" id=\"DejaVuSans-97\"/>\n      <path d=\"M 9.421875 54.6875 \nL 18.40625 54.6875 \nL 18.40625 0 \nL 9.421875 0 \nz\nM 9.421875 75.984375 \nL 18.40625 75.984375 \nL 18.40625 64.59375 \nL 9.421875 64.59375 \nz\n\" id=\"DejaVuSans-105\"/>\n      <path d=\"M 54.890625 33.015625 \nL 54.890625 0 \nL 45.90625 0 \nL 45.90625 32.71875 \nQ 45.90625 40.484375 42.875 44.328125 \nQ 39.84375 48.1875 33.796875 48.1875 \nQ 26.515625 48.1875 22.3125 43.546875 \nQ 18.109375 38.921875 18.109375 30.90625 \nL 18.109375 0 \nL 9.078125 0 \nL 9.078125 54.6875 \nL 18.109375 54.6875 \nL 18.109375 46.1875 \nQ 21.34375 51.125 25.703125 53.5625 \nQ 30.078125 56 35.796875 56 \nQ 45.21875 56 50.046875 50.171875 \nQ 54.890625 44.34375 54.890625 33.015625 \nz\n\" id=\"DejaVuSans-110\"/>\n      <path d=\"M 44.28125 53.078125 \nL 44.28125 44.578125 \nQ 40.484375 46.53125 36.375 47.5 \nQ 32.28125 48.484375 27.875 48.484375 \nQ 21.1875 48.484375 17.84375 46.4375 \nQ 14.5 44.390625 14.5 40.28125 \nQ 14.5 37.15625 16.890625 35.375 \nQ 19.28125 33.59375 26.515625 31.984375 \nL 29.59375 31.296875 \nQ 39.15625 29.25 43.1875 25.515625 \nQ 47.21875 21.78125 47.21875 15.09375 \nQ 47.21875 7.46875 41.1875 3.015625 \nQ 35.15625 -1.421875 24.609375 -1.421875 \nQ 20.21875 -1.421875 15.453125 -0.5625 \nQ 10.6875 0.296875 5.421875 2 \nL 5.421875 11.28125 \nQ 10.40625 8.6875 15.234375 7.390625 \nQ 20.0625 6.109375 24.8125 6.109375 \nQ 31.15625 6.109375 34.5625 8.28125 \nQ 37.984375 10.453125 37.984375 14.40625 \nQ 37.984375 18.0625 35.515625 20.015625 \nQ 33.0625 21.96875 24.703125 23.78125 \nL 21.578125 24.515625 \nQ 13.234375 26.265625 9.515625 29.90625 \nQ 5.8125 33.546875 5.8125 39.890625 \nQ 5.8125 47.609375 11.28125 51.796875 \nQ 16.75 56 26.8125 56 \nQ 31.78125 56 36.171875 55.265625 \nQ 40.578125 54.546875 44.28125 53.078125 \nz\n\" id=\"DejaVuSans-115\"/>\n     </defs>\n     <g transform=\"translate(178.364844 268.034687)scale(0.1 -0.1)\">\n      <use xlink:href=\"#DejaVuSans-35\"/>\n      <use x=\"83.789062\" xlink:href=\"#DejaVuSans-32\"/>\n      <use x=\"115.576172\" xlink:href=\"#DejaVuSans-111\"/>\n      <use x=\"176.757812\" xlink:href=\"#DejaVuSans-102\"/>\n      <use x=\"211.962891\" xlink:href=\"#DejaVuSans-32\"/>\n      <use x=\"243.75\" xlink:href=\"#DejaVuSans-73\"/>\n      <use x=\"273.242188\" xlink:href=\"#DejaVuSans-116\"/>\n      <use x=\"312.451172\" xlink:href=\"#DejaVuSans-101\"/>\n      <use x=\"373.974609\" xlink:href=\"#DejaVuSans-114\"/>\n      <use x=\"415.087891\" xlink:href=\"#DejaVuSans-97\"/>\n      <use x=\"476.367188\" xlink:href=\"#DejaVuSans-116\"/>\n      <use x=\"515.576172\" xlink:href=\"#DejaVuSans-105\"/>\n      <use x=\"543.359375\" xlink:href=\"#DejaVuSans-111\"/>\n      <use x=\"604.541016\" xlink:href=\"#DejaVuSans-110\"/>\n      <use x=\"667.919922\" xlink:href=\"#DejaVuSans-115\"/>\n     </g>\n    </g>\n   </g>\n   <g id=\"matplotlib.axis_2\">\n    <g id=\"ytick_1\">\n     <g id=\"line2d_7\">\n      <defs>\n       <path d=\"M 0 0 \nL -3.5 0 \n\" id=\"ma34bef56b2\" style=\"stroke:#000000;stroke-width:0.8;\"/>\n      </defs>\n      <g>\n       <use style=\"stroke:#000000;stroke-width:0.8;\" x=\"46.965625\" xlink:href=\"#ma34bef56b2\" y=\"214.716581\"/>\n      </g>\n     </g>\n     <g id=\"text_8\">\n      <!-- 80 -->\n      <g transform=\"translate(27.240625 218.515799)scale(0.1 -0.1)\">\n       <use xlink:href=\"#DejaVuSans-56\"/>\n       <use x=\"63.623047\" xlink:href=\"#DejaVuSans-48\"/>\n      </g>\n     </g>\n    </g>\n    <g id=\"ytick_2\">\n     <g id=\"line2d_8\">\n      <g>\n       <use style=\"stroke:#000000;stroke-width:0.8;\" x=\"46.965625\" xlink:href=\"#ma34bef56b2\" y=\"182.797041\"/>\n      </g>\n     </g>\n     <g id=\"text_9\">\n      <!-- 100 -->\n      <g transform=\"translate(20.878125 186.596259)scale(0.1 -0.1)\">\n       <use xlink:href=\"#DejaVuSans-49\"/>\n       <use x=\"63.623047\" xlink:href=\"#DejaVuSans-48\"/>\n       <use x=\"127.246094\" xlink:href=\"#DejaVuSans-48\"/>\n      </g>\n     </g>\n    </g>\n    <g id=\"ytick_3\">\n     <g id=\"line2d_9\">\n      <g>\n       <use style=\"stroke:#000000;stroke-width:0.8;\" x=\"46.965625\" xlink:href=\"#ma34bef56b2\" y=\"150.877501\"/>\n      </g>\n     </g>\n     <g id=\"text_10\">\n      <!-- 120 -->\n      <g transform=\"translate(20.878125 154.67672)scale(0.1 -0.1)\">\n       <use xlink:href=\"#DejaVuSans-49\"/>\n       <use x=\"63.623047\" xlink:href=\"#DejaVuSans-50\"/>\n       <use x=\"127.246094\" xlink:href=\"#DejaVuSans-48\"/>\n      </g>\n     </g>\n    </g>\n    <g id=\"ytick_4\">\n     <g id=\"line2d_10\">\n      <g>\n       <use style=\"stroke:#000000;stroke-width:0.8;\" x=\"46.965625\" xlink:href=\"#ma34bef56b2\" y=\"118.957961\"/>\n      </g>\n     </g>\n     <g id=\"text_11\">\n      <!-- 140 -->\n      <g transform=\"translate(20.878125 122.75718)scale(0.1 -0.1)\">\n       <use xlink:href=\"#DejaVuSans-49\"/>\n       <use x=\"63.623047\" xlink:href=\"#DejaVuSans-52\"/>\n       <use x=\"127.246094\" xlink:href=\"#DejaVuSans-48\"/>\n      </g>\n     </g>\n    </g>\n    <g id=\"ytick_5\">\n     <g id=\"line2d_11\">\n      <g>\n       <use style=\"stroke:#000000;stroke-width:0.8;\" x=\"46.965625\" xlink:href=\"#ma34bef56b2\" y=\"87.038421\"/>\n      </g>\n     </g>\n     <g id=\"text_12\">\n      <!-- 160 -->\n      <g transform=\"translate(20.878125 90.83764)scale(0.1 -0.1)\">\n       <use xlink:href=\"#DejaVuSans-49\"/>\n       <use x=\"63.623047\" xlink:href=\"#DejaVuSans-54\"/>\n       <use x=\"127.246094\" xlink:href=\"#DejaVuSans-48\"/>\n      </g>\n     </g>\n    </g>\n    <g id=\"ytick_6\">\n     <g id=\"line2d_12\">\n      <g>\n       <use style=\"stroke:#000000;stroke-width:0.8;\" x=\"46.965625\" xlink:href=\"#ma34bef56b2\" y=\"55.118881\"/>\n      </g>\n     </g>\n     <g id=\"text_13\">\n      <!-- 180 -->\n      <g transform=\"translate(20.878125 58.9181)scale(0.1 -0.1)\">\n       <use xlink:href=\"#DejaVuSans-49\"/>\n       <use x=\"63.623047\" xlink:href=\"#DejaVuSans-56\"/>\n       <use x=\"127.246094\" xlink:href=\"#DejaVuSans-48\"/>\n      </g>\n     </g>\n    </g>\n    <g id=\"ytick_7\">\n     <g id=\"line2d_13\">\n      <g>\n       <use style=\"stroke:#000000;stroke-width:0.8;\" x=\"46.965625\" xlink:href=\"#ma34bef56b2\" y=\"23.199341\"/>\n      </g>\n     </g>\n     <g id=\"text_14\">\n      <!-- 200 -->\n      <g transform=\"translate(20.878125 26.99856)scale(0.1 -0.1)\">\n       <use xlink:href=\"#DejaVuSans-50\"/>\n       <use x=\"63.623047\" xlink:href=\"#DejaVuSans-48\"/>\n       <use x=\"127.246094\" xlink:href=\"#DejaVuSans-48\"/>\n      </g>\n     </g>\n    </g>\n    <g id=\"text_15\">\n     <!-- Logg loss  -->\n     <defs>\n      <path d=\"M 9.8125 72.90625 \nL 19.671875 72.90625 \nL 19.671875 8.296875 \nL 55.171875 8.296875 \nL 55.171875 0 \nL 9.8125 0 \nz\n\" id=\"DejaVuSans-76\"/>\n      <path d=\"M 45.40625 27.984375 \nQ 45.40625 37.75 41.375 43.109375 \nQ 37.359375 48.484375 30.078125 48.484375 \nQ 22.859375 48.484375 18.828125 43.109375 \nQ 14.796875 37.75 14.796875 27.984375 \nQ 14.796875 18.265625 18.828125 12.890625 \nQ 22.859375 7.515625 30.078125 7.515625 \nQ 37.359375 7.515625 41.375 12.890625 \nQ 45.40625 18.265625 45.40625 27.984375 \nz\nM 54.390625 6.78125 \nQ 54.390625 -7.171875 48.1875 -13.984375 \nQ 42 -20.796875 29.203125 -20.796875 \nQ 24.46875 -20.796875 20.265625 -20.09375 \nQ 16.0625 -19.390625 12.109375 -17.921875 \nL 12.109375 -9.1875 \nQ 16.0625 -11.328125 19.921875 -12.34375 \nQ 23.78125 -13.375 27.78125 -13.375 \nQ 36.625 -13.375 41.015625 -8.765625 \nQ 45.40625 -4.15625 45.40625 5.171875 \nL 45.40625 9.625 \nQ 42.625 4.78125 38.28125 2.390625 \nQ 33.9375 0 27.875 0 \nQ 17.828125 0 11.671875 7.65625 \nQ 5.515625 15.328125 5.515625 27.984375 \nQ 5.515625 40.671875 11.671875 48.328125 \nQ 17.828125 56 27.875 56 \nQ 33.9375 56 38.28125 53.609375 \nQ 42.625 51.21875 45.40625 46.390625 \nL 45.40625 54.6875 \nL 54.390625 54.6875 \nz\n\" id=\"DejaVuSans-103\"/>\n      <path d=\"M 9.421875 75.984375 \nL 18.40625 75.984375 \nL 18.40625 0 \nL 9.421875 0 \nz\n\" id=\"DejaVuSans-108\"/>\n     </defs>\n     <g transform=\"translate(14.798438 155.980312)rotate(-90)scale(0.1 -0.1)\">\n      <use xlink:href=\"#DejaVuSans-76\"/>\n      <use x=\"53.962891\" xlink:href=\"#DejaVuSans-111\"/>\n      <use x=\"115.144531\" xlink:href=\"#DejaVuSans-103\"/>\n      <use x=\"178.621094\" xlink:href=\"#DejaVuSans-103\"/>\n      <use x=\"242.097656\" xlink:href=\"#DejaVuSans-32\"/>\n      <use x=\"273.884766\" xlink:href=\"#DejaVuSans-108\"/>\n      <use x=\"301.667969\" xlink:href=\"#DejaVuSans-111\"/>\n      <use x=\"362.849609\" xlink:href=\"#DejaVuSans-115\"/>\n      <use x=\"414.949219\" xlink:href=\"#DejaVuSans-115\"/>\n      <use x=\"467.048828\" xlink:href=\"#DejaVuSans-32\"/>\n     </g>\n    </g>\n   </g>\n   <g id=\"line2d_14\">\n    <path clip-path=\"url(#p099e9ccd67)\" d=\"M 62.183807 49.86552 \nL 62.488475 32.201761 \nL 62.793143 90.602857 \nL 63.097812 99.813111 \nL 63.40248 121.957869 \nL 64.011817 142.265957 \nL 64.316485 151.177731 \nL 64.621153 155.267607 \nL 64.925822 160.954351 \nL 65.23049 163.171889 \nL 65.535158 166.897801 \nL 65.839826 168.352221 \nL 66.144495 171.079161 \nL 66.449163 172.374078 \nL 66.753831 174.633064 \nL 67.0585 176.019794 \nL 67.972505 181.517653 \nL 70.714519 195.691887 \nL 71.933193 200.257404 \nL 73.151866 203.954408 \nL 74.370539 207.071548 \nL 75.589212 209.678595 \nL 76.807885 211.80804 \nL 78.026559 213.522204 \nL 79.245232 214.895763 \nL 80.768573 216.237622 \nL 82.291915 217.26274 \nL 84.119925 218.187632 \nL 86.252603 218.969293 \nL 88.689949 219.599078 \nL 91.736632 220.137022 \nL 95.69732 220.598241 \nL 101.486018 221.034472 \nL 111.235404 221.521835 \nL 127.992161 222.118438 \nL 152.365625 222.755113 \nL 185.57447 223.388722 \nL 212.385281 223.811538 \nL 212.689949 223.682733 \nL 212.994618 223.806369 \nL 213.299286 223.538119 \nL 213.603954 223.701159 \nL 213.908623 223.125227 \nL 214.213291 223.193918 \nL 214.517959 221.98142 \nL 214.822627 221.341231 \nL 215.431964 216.702594 \nL 215.736632 216.601188 \nL 216.041301 213.13746 \nL 216.345969 219.031508 \nL 216.650637 218.659367 \nL 216.955306 223.951884 \nL 217.259974 224.007205 \nL 217.564642 225.633365 \nL 217.869311 225.309394 \nL 218.173979 225.632337 \nL 218.478647 225.330369 \nL 218.783315 225.384806 \nL 219.087984 225.146044 \nL 219.392652 225.159276 \nL 219.69732 224.947533 \nL 220.001989 224.968703 \nL 220.306657 224.765223 \nL 220.611325 224.807123 \nL 220.915994 224.606139 \nL 221.220662 224.671198 \nL 221.52533 224.471925 \nL 221.829998 224.558219 \nL 222.134667 224.361419 \nL 222.439335 224.464978 \nL 222.744003 224.271707 \nL 223.048672 224.38785 \nL 223.35334 224.199028 \nL 223.658008 224.323228 \nL 223.962677 224.139508 \nL 224.267345 224.267895 \nL 224.572013 224.089657 \nL 224.876682 224.219231 \nL 225.18135 224.046626 \nL 225.486018 224.175264 \nL 225.790686 224.008267 \nL 226.095355 224.13461 \nL 226.400023 223.973076 \nL 226.704691 224.096364 \nL 227.00936 223.940072 \nL 227.314028 224.059988 \nL 227.618696 223.908671 \nL 227.923365 224.025192 \nL 228.228033 223.878562 \nL 228.532701 223.991853 \nL 228.837369 223.849618 \nL 229.142038 223.959945 \nL 229.446706 223.821817 \nL 229.751374 223.929493 \nL 230.056043 223.795195 \nL 230.360711 223.900542 \nL 230.665379 223.769811 \nL 230.970048 223.873135 \nL 231.274716 223.745724 \nL 231.579384 223.847306 \nL 231.884053 223.722985 \nL 232.188721 223.823072 \nL 232.493389 223.701625 \nL 232.798057 223.800434 \nL 233.102726 223.681659 \nL 233.407394 223.779372 \nL 233.712062 223.663083 \nL 234.016731 223.759853 \nL 234.321399 223.645879 \nL 234.626067 223.741831 \nL 234.930736 223.630012 \nL 235.235404 223.72525 \nL 235.540072 223.615439 \nL 235.84474 223.710046 \nL 236.149409 223.602109 \nL 236.454077 223.696151 \nL 236.758745 223.589962 \nL 237.063414 223.683492 \nL 237.368082 223.578938 \nL 237.67275 223.671997 \nL 237.977419 223.568974 \nL 238.282087 223.661592 \nL 238.586755 223.560005 \nL 238.891424 223.652205 \nL 239.196092 223.551968 \nL 239.50076 223.643767 \nL 239.805428 223.544802 \nL 240.110097 223.63621 \nL 240.414765 223.538447 \nL 240.719433 223.62947 \nL 241.024102 223.532845 \nL 241.32877 223.623485 \nL 241.633438 223.527942 \nL 241.938107 223.618198 \nL 242.242775 223.523687 \nL 242.547443 223.613554 \nL 242.852111 223.52003 \nL 243.15678 223.609502 \nL 243.461448 223.516928 \nL 243.766116 223.605995 \nL 244.070785 223.514336 \nL 244.375453 223.602988 \nL 244.680121 223.512215 \nL 244.98479 223.600441 \nL 245.289458 223.510528 \nL 245.594126 223.598315 \nL 245.898795 223.509242 \nL 246.203463 223.596573 \nL 246.508131 223.508323 \nL 246.812799 223.595185 \nL 247.117468 223.507742 \nL 247.422136 223.594119 \nL 247.726804 223.507472 \nL 248.031473 223.593347 \nL 248.336141 223.507488 \nL 248.640809 223.592844 \nL 248.945478 223.507766 \nL 249.250146 223.592587 \nL 249.554814 223.508286 \nL 249.859482 223.592553 \nL 250.164151 223.509027 \nL 250.468819 223.592724 \nL 250.773487 223.509972 \nL 251.078156 223.593082 \nL 251.382824 223.511104 \nL 251.687492 223.593609 \nL 251.992161 223.512409 \nL 252.296829 223.594293 \nL 252.601497 223.513874 \nL 252.906166 223.595119 \nL 253.210834 223.515486 \nL 253.515502 223.596075 \nL 253.82017 223.517234 \nL 254.124839 223.597152 \nL 254.429507 223.519109 \nL 254.734175 223.59834 \nL 255.038844 223.521103 \nL 255.343512 223.59963 \nL 255.64818 223.523208 \nL 255.952849 223.601015 \nL 256.257517 223.525417 \nL 256.562185 223.602489 \nL 256.866854 223.527725 \nL 257.171522 223.604047 \nL 257.47619 223.530127 \nL 257.780858 223.605683 \nL 258.085527 223.532619 \nL 258.390195 223.607393 \nL 258.694863 223.535196 \nL 258.999532 223.609175 \nL 259.3042 223.537858 \nL 259.608868 223.611024 \nL 259.913537 223.5406 \nL 260.218205 223.612939 \nL 260.522873 223.543421 \nL 260.827541 223.614917 \nL 261.13221 223.54632 \nL 261.436878 223.616958 \nL 261.741546 223.549296 \nL 262.046215 223.619059 \nL 262.350883 223.552348 \nL 262.655551 223.62122 \nL 262.96022 223.555476 \nL 263.264888 223.62344 \nL 263.569556 223.558679 \nL 263.874225 223.625718 \nL 264.178893 223.561957 \nL 264.483561 223.628056 \nL 264.788229 223.565312 \nL 265.092898 223.630451 \nL 265.397566 223.568743 \nL 265.702234 223.632906 \nL 266.006903 223.572252 \nL 266.311571 223.635419 \nL 266.616239 223.575839 \nL 266.920908 223.637992 \nL 267.225576 223.579506 \nL 267.530244 223.640625 \nL 267.834912 223.583253 \nL 268.139581 223.643319 \nL 268.444249 223.587081 \nL 268.748917 223.646075 \nL 269.053586 223.590993 \nL 269.967591 223.651775 \nL 270.881596 223.603246 \nL 271.7956 223.660818 \nL 272.709605 223.616314 \nL 273.62361 223.670485 \nL 274.537615 223.630258 \nL 275.45162 223.680827 \nL 276.365625 223.645147 \nL 277.27963 223.691901 \nL 278.193635 223.661066 \nL 279.10764 223.703777 \nL 280.021645 223.67811 \nL 280.93565 223.716535 \nL 281.849654 223.696387 \nL 283.372996 223.73508 \nL 284.896338 223.729933 \nL 287.029016 223.766724 \nL 290.380367 223.802076 \nL 299.215748 223.920715 \nL 300.129753 223.983566 \nL 301.043758 223.952983 \nL 301.957763 224.028039 \nL 302.262431 223.976277 \nL 302.567099 224.043778 \nL 302.871768 223.988498 \nL 303.176436 224.060002 \nL 303.481104 224.001122 \nL 303.785772 224.076727 \nL 304.090441 224.014162 \nL 304.395109 224.09397 \nL 304.699777 224.027635 \nL 305.004446 224.111749 \nL 305.309114 224.041555 \nL 305.613782 224.130082 \nL 305.918451 224.05594 \nL 306.223119 224.148988 \nL 306.527787 224.070805 \nL 306.832455 224.168485 \nL 307.137124 224.086167 \nL 307.441792 224.188594 \nL 307.74646 224.102044 \nL 308.051129 224.209333 \nL 308.355797 224.118454 \nL 308.660465 224.230724 \nL 308.965134 224.135414 \nL 309.269802 224.252786 \nL 309.57447 224.152944 \nL 309.879139 224.275541 \nL 310.183807 224.171062 \nL 310.488475 224.299011 \nL 310.793143 224.189788 \nL 311.097812 224.323215 \nL 311.40248 224.209141 \nL 311.707148 224.348177 \nL 312.011817 224.22914 \nL 312.316485 224.373919 \nL 312.621153 224.249807 \nL 312.925822 224.400461 \nL 313.23049 224.271161 \nL 313.535158 224.427827 \nL 313.839826 224.293223 \nL 314.144495 224.456039 \nL 314.449163 224.316013 \nL 314.753831 224.485119 \nL 315.0585 224.339551 \nL 315.363168 224.51509 \nL 315.667836 224.36386 \nL 315.972505 224.545972 \nL 316.277173 224.388958 \nL 316.581841 224.577789 \nL 316.88651 224.414867 \nL 317.191178 224.61056 \nL 317.495846 224.441607 \nL 317.800514 224.644309 \nL 318.105183 224.469198 \nL 318.409851 224.679054 \nL 318.714519 224.49766 \nL 319.019188 224.714817 \nL 319.323856 224.527012 \nL 319.628524 224.751616 \nL 319.933193 224.557272 \nL 320.237861 224.789469 \nL 320.542529 224.58846 \nL 320.847197 224.828396 \nL 321.151866 224.620593 \nL 321.456534 224.868411 \nL 321.761202 224.653688 \nL 322.065871 224.909532 \nL 322.370539 224.687762 \nL 322.675207 224.951772 \nL 322.979876 224.722828 \nL 323.284544 224.995145 \nL 323.589212 224.758902 \nL 323.893881 225.039661 \nL 324.198549 224.795996 \nL 324.503217 225.085333 \nL 324.807885 224.834123 \nL 325.112554 225.132167 \nL 325.417222 224.873293 \nL 325.72189 225.180172 \nL 326.026559 224.913516 \nL 326.331227 225.229351 \nL 326.635895 224.954799 \nL 326.940564 225.279709 \nL 327.245232 224.997148 \nL 327.5499 225.331246 \nL 327.854568 225.040569 \nL 328.159237 225.383962 \nL 328.463905 225.085064 \nL 328.768573 225.437853 \nL 329.073242 225.130634 \nL 329.37791 225.492916 \nL 329.682578 225.17728 \nL 329.987247 225.549141 \nL 330.291915 225.224998 \nL 330.596583 225.60652 \nL 330.901252 225.273784 \nL 331.20592 225.66504 \nL 331.510588 225.323633 \nL 331.815256 225.724688 \nL 332.119925 225.374535 \nL 332.424593 225.785446 \nL 332.729261 225.426482 \nL 333.03393 225.847296 \nL 333.338598 225.47946 \nL 333.643266 225.910217 \nL 333.947935 225.533456 \nL 334.252603 225.974185 \nL 334.557271 225.588453 \nL 334.861939 226.039175 \nL 335.166608 225.644434 \nL 335.471276 226.105158 \nL 335.775944 225.701378 \nL 336.080613 226.172105 \nL 336.385281 225.759265 \nL 336.689949 226.239984 \nL 336.994618 225.81807 \nL 337.299286 226.308762 \nL 337.603954 225.877768 \nL 337.908623 226.378402 \nL 338.213291 225.938332 \nL 338.517959 226.448868 \nL 338.822627 225.999734 \nL 339.127296 226.520121 \nL 339.431964 226.061944 \nL 339.736632 226.592121 \nL 340.041301 226.12493 \nL 340.345969 226.664826 \nL 340.650637 226.188658 \nL 340.955306 226.738194 \nL 341.259974 226.253097 \nL 341.564642 226.812182 \nL 341.869311 226.318209 \nL 342.173979 226.886745 \nL 342.478647 226.38396 \nL 342.783315 226.961838 \nL 343.087984 226.450312 \nL 343.392652 227.037416 \nL 343.69732 226.517228 \nL 344.001989 227.113434 \nL 344.306657 226.58467 \nL 344.611325 227.189845 \nL 344.915994 226.652598 \nL 345.220662 227.266603 \nL 345.52533 226.720974 \nL 345.829998 227.343663 \nL 346.134667 226.789758 \nL 346.439335 227.420979 \nL 346.744003 226.858911 \nL 347.048672 227.498506 \nL 347.35334 226.928394 \nL 347.658008 227.576199 \nL 347.962677 226.998166 \nL 348.267345 227.654014 \nL 348.572013 227.068188 \nL 348.876682 227.731908 \nL 349.18135 227.138423 \nL 349.486018 227.809839 \nL 349.790686 227.208831 \nL 350.095355 227.887764 \nL 350.400023 227.279374 \nL 350.704691 227.965645 \nL 351.00936 227.350014 \nL 351.314028 228.043442 \nL 351.618696 227.420716 \nL 351.923365 228.121116 \nL 352.228033 227.491442 \nL 352.532701 228.198631 \nL 352.837369 227.562158 \nL 353.142038 228.275953 \nL 353.446706 227.63283 \nL 353.751374 228.353046 \nL 354.056043 227.703423 \nL 354.360711 228.429878 \nL 354.665379 227.773907 \nL 354.970048 228.506419 \nL 355.274716 227.844248 \nL 355.579384 228.582638 \nL 355.884053 227.914417 \nL 356.188721 228.658507 \nL 356.493389 227.984384 \nL 356.798057 228.734001 \nL 357.102726 228.054122 \nL 357.407394 228.809092 \nL 357.712062 228.123604 \nL 358.016731 228.883759 \nL 358.321399 228.192803 \nL 358.626067 228.957979 \nL 358.930736 228.261696 \nL 359.235404 229.03173 \nL 359.540072 228.330258 \nL 359.84474 229.104993 \nL 360.149409 228.398467 \nL 360.454077 229.177751 \nL 360.758745 228.466303 \nL 361.063414 229.249987 \nL 361.368082 228.533745 \nL 361.67275 229.321685 \nL 361.977419 228.600776 \nL 362.282087 229.392832 \nL 362.586755 228.667376 \nL 362.891424 229.463414 \nL 363.196092 228.73353 \nL 363.50076 229.533421 \nL 363.805428 228.799222 \nL 364.110097 229.602841 \nL 364.414765 228.864438 \nL 364.719433 229.671666 \nL 365.024102 228.929166 \nL 365.32877 229.739886 \nL 365.633438 228.993392 \nL 365.938107 229.807496 \nL 366.242775 229.057106 \nL 366.547443 229.874489 \nL 366.547443 229.874489 \n\" style=\"fill:none;stroke:#1f77b4;stroke-linecap:square;stroke-width:1.5;\"/>\n   </g>\n   <g id=\"patch_3\">\n    <path d=\"M 46.965625 239.758125 \nL 46.965625 22.318125 \n\" style=\"fill:none;stroke:#000000;stroke-linecap:square;stroke-linejoin:miter;stroke-width:0.8;\"/>\n   </g>\n   <g id=\"patch_4\">\n    <path d=\"M 381.765625 239.758125 \nL 381.765625 22.318125 \n\" style=\"fill:none;stroke:#000000;stroke-linecap:square;stroke-linejoin:miter;stroke-width:0.8;\"/>\n   </g>\n   <g id=\"patch_5\">\n    <path d=\"M 46.965625 239.758125 \nL 381.765625 239.758125 \n\" style=\"fill:none;stroke:#000000;stroke-linecap:square;stroke-linejoin:miter;stroke-width:0.8;\"/>\n   </g>\n   <g id=\"patch_6\">\n    <path d=\"M 46.965625 22.318125 \nL 381.765625 22.318125 \n\" style=\"fill:none;stroke:#000000;stroke-linecap:square;stroke-linejoin:miter;stroke-width:0.8;\"/>\n   </g>\n   <g id=\"text_16\">\n    <!-- Cumalative Loss -->\n    <defs>\n     <path d=\"M 64.40625 67.28125 \nL 64.40625 56.890625 \nQ 59.421875 61.53125 53.78125 63.8125 \nQ 48.140625 66.109375 41.796875 66.109375 \nQ 29.296875 66.109375 22.65625 58.46875 \nQ 16.015625 50.828125 16.015625 36.375 \nQ 16.015625 21.96875 22.65625 14.328125 \nQ 29.296875 6.6875 41.796875 6.6875 \nQ 48.140625 6.6875 53.78125 8.984375 \nQ 59.421875 11.28125 64.40625 15.921875 \nL 64.40625 5.609375 \nQ 59.234375 2.09375 53.4375 0.328125 \nQ 47.65625 -1.421875 41.21875 -1.421875 \nQ 24.65625 -1.421875 15.125 8.703125 \nQ 5.609375 18.84375 5.609375 36.375 \nQ 5.609375 53.953125 15.125 64.078125 \nQ 24.65625 74.21875 41.21875 74.21875 \nQ 47.75 74.21875 53.53125 72.484375 \nQ 59.328125 70.75 64.40625 67.28125 \nz\n\" id=\"DejaVuSans-67\"/>\n     <path d=\"M 8.5 21.578125 \nL 8.5 54.6875 \nL 17.484375 54.6875 \nL 17.484375 21.921875 \nQ 17.484375 14.15625 20.5 10.265625 \nQ 23.53125 6.390625 29.59375 6.390625 \nQ 36.859375 6.390625 41.078125 11.03125 \nQ 45.3125 15.671875 45.3125 23.6875 \nL 45.3125 54.6875 \nL 54.296875 54.6875 \nL 54.296875 0 \nL 45.3125 0 \nL 45.3125 8.40625 \nQ 42.046875 3.421875 37.71875 1 \nQ 33.40625 -1.421875 27.6875 -1.421875 \nQ 18.265625 -1.421875 13.375 4.4375 \nQ 8.5 10.296875 8.5 21.578125 \nz\nM 31.109375 56 \nz\n\" id=\"DejaVuSans-117\"/>\n     <path d=\"M 52 44.1875 \nQ 55.375 50.25 60.0625 53.125 \nQ 64.75 56 71.09375 56 \nQ 79.640625 56 84.28125 50.015625 \nQ 88.921875 44.046875 88.921875 33.015625 \nL 88.921875 0 \nL 79.890625 0 \nL 79.890625 32.71875 \nQ 79.890625 40.578125 77.09375 44.375 \nQ 74.3125 48.1875 68.609375 48.1875 \nQ 61.625 48.1875 57.5625 43.546875 \nQ 53.515625 38.921875 53.515625 30.90625 \nL 53.515625 0 \nL 44.484375 0 \nL 44.484375 32.71875 \nQ 44.484375 40.625 41.703125 44.40625 \nQ 38.921875 48.1875 33.109375 48.1875 \nQ 26.21875 48.1875 22.15625 43.53125 \nQ 18.109375 38.875 18.109375 30.90625 \nL 18.109375 0 \nL 9.078125 0 \nL 9.078125 54.6875 \nL 18.109375 54.6875 \nL 18.109375 46.1875 \nQ 21.1875 51.21875 25.484375 53.609375 \nQ 29.78125 56 35.6875 56 \nQ 41.65625 56 45.828125 52.96875 \nQ 50 49.953125 52 44.1875 \nz\n\" id=\"DejaVuSans-109\"/>\n     <path d=\"M 2.984375 54.6875 \nL 12.5 54.6875 \nL 29.59375 8.796875 \nL 46.6875 54.6875 \nL 56.203125 54.6875 \nL 35.6875 0 \nL 23.484375 0 \nz\n\" id=\"DejaVuSans-118\"/>\n    </defs>\n    <g transform=\"translate(165.17875 16.318125)scale(0.12 -0.12)\">\n     <use xlink:href=\"#DejaVuSans-67\"/>\n     <use x=\"69.824219\" xlink:href=\"#DejaVuSans-117\"/>\n     <use x=\"133.203125\" xlink:href=\"#DejaVuSans-109\"/>\n     <use x=\"230.615234\" xlink:href=\"#DejaVuSans-97\"/>\n     <use x=\"291.894531\" xlink:href=\"#DejaVuSans-108\"/>\n     <use x=\"319.677734\" xlink:href=\"#DejaVuSans-97\"/>\n     <use x=\"380.957031\" xlink:href=\"#DejaVuSans-116\"/>\n     <use x=\"420.166016\" xlink:href=\"#DejaVuSans-105\"/>\n     <use x=\"447.949219\" xlink:href=\"#DejaVuSans-118\"/>\n     <use x=\"507.128906\" xlink:href=\"#DejaVuSans-101\"/>\n     <use x=\"568.652344\" xlink:href=\"#DejaVuSans-32\"/>\n     <use x=\"600.439453\" xlink:href=\"#DejaVuSans-76\"/>\n     <use x=\"654.402344\" xlink:href=\"#DejaVuSans-111\"/>\n     <use x=\"715.583984\" xlink:href=\"#DejaVuSans-115\"/>\n     <use x=\"767.683594\" xlink:href=\"#DejaVuSans-115\"/>\n    </g>\n   </g>\n  </g>\n </g>\n <defs>\n  <clipPath id=\"p099e9ccd67\">\n   <rect height=\"217.44\" width=\"334.8\" x=\"46.965625\" y=\"22.318125\"/>\n  </clipPath>\n </defs>\n</svg>\n",
      "image/png": "[encoded data removed]"
     },
     "metadata": {
      "needs_background": "light"
     }
    }
   ],
   "source": [
    "plt.plot(LOSS_VEC)\n",
    "plt.title('Cumalative Loss')\n",
    "plt.xlabel('# of Iterations')\n",
    "plt.ylabel('Logg loss ')"
   ]
  },
  {
   "cell_type": "code",
   "execution_count": 192,
   "metadata": {},
   "outputs": [
    {
     "output_type": "execute_result",
     "data": {
      "text/plain": [
       "Text(0, 0.5, 'Accuracy')"
      ]
     },
     "metadata": {},
     "execution_count": 192
    },
    {
     "output_type": "display_data",
     "data": {
      "text/plain": "<Figure size 432x288 with 1 Axes>",
      "image/svg+xml": "<?xml version=\"1.0\" encoding=\"utf-8\" standalone=\"no\"?>\n<!DOCTYPE svg PUBLIC \"-//W3C//DTD SVG 1.1//EN\"\n  \"http://www.w3.org/Graphics/SVG/1.1/DTD/svg11.dtd\">\n<!-- Created with matplotlib (https://matplotlib.org/) -->\n<svg height=\"277.314375pt\" version=\"1.1\" viewBox=\"0 0 392.14375 277.314375\" width=\"392.14375pt\" xmlns=\"http://www.w3.org/2000/svg\" xmlns:xlink=\"http://www.w3.org/1999/xlink\">\n <defs>\n  <style type=\"text/css\">\n*{stroke-linecap:butt;stroke-linejoin:round;}\n  </style>\n </defs>\n <g id=\"figure_1\">\n  <g id=\"patch_1\">\n   <path d=\"M 0 277.314375 \nL 392.14375 277.314375 \nL 392.14375 0 \nL 0 0 \nz\n\" style=\"fill:none;\"/>\n  </g>\n  <g id=\"axes_1\">\n   <g id=\"patch_2\">\n    <path d=\"M 50.14375 239.758125 \nL 384.94375 239.758125 \nL 384.94375 22.318125 \nL 50.14375 22.318125 \nz\n\" style=\"fill:#ffffff;\"/>\n   </g>\n   <g id=\"matplotlib.axis_1\">\n    <g id=\"xtick_1\">\n     <g id=\"line2d_1\">\n      <defs>\n       <path d=\"M 0 0 \nL 0 3.5 \n\" id=\"m299253228c\" style=\"stroke:#000000;stroke-width:0.8;\"/>\n      </defs>\n      <g>\n       <use style=\"stroke:#000000;stroke-width:0.8;\" x=\"65.361932\" xlink:href=\"#m299253228c\" y=\"239.758125\"/>\n      </g>\n     </g>\n     <g id=\"text_1\">\n      <!-- 0 -->\n      <defs>\n       <path d=\"M 31.78125 66.40625 \nQ 24.171875 66.40625 20.328125 58.90625 \nQ 16.5 51.421875 16.5 36.375 \nQ 16.5 21.390625 20.328125 13.890625 \nQ 24.171875 6.390625 31.78125 6.390625 \nQ 39.453125 6.390625 43.28125 13.890625 \nQ 47.125 21.390625 47.125 36.375 \nQ 47.125 51.421875 43.28125 58.90625 \nQ 39.453125 66.40625 31.78125 66.40625 \nz\nM 31.78125 74.21875 \nQ 44.046875 74.21875 50.515625 64.515625 \nQ 56.984375 54.828125 56.984375 36.375 \nQ 56.984375 17.96875 50.515625 8.265625 \nQ 44.046875 -1.421875 31.78125 -1.421875 \nQ 19.53125 -1.421875 13.0625 8.265625 \nQ 6.59375 17.96875 6.59375 36.375 \nQ 6.59375 54.828125 13.0625 64.515625 \nQ 19.53125 74.21875 31.78125 74.21875 \nz\n\" id=\"DejaVuSans-48\"/>\n      </defs>\n      <g transform=\"translate(62.180682 254.356562)scale(0.1 -0.1)\">\n       <use xlink:href=\"#DejaVuSans-48\"/>\n      </g>\n     </g>\n    </g>\n    <g id=\"xtick_2\">\n     <g id=\"line2d_2\">\n      <g>\n       <use style=\"stroke:#000000;stroke-width:0.8;\" x=\"126.295593\" xlink:href=\"#m299253228c\" y=\"239.758125\"/>\n      </g>\n     </g>\n     <g id=\"text_2\">\n      <!-- 200 -->\n      <defs>\n       <path d=\"M 19.1875 8.296875 \nL 53.609375 8.296875 \nL 53.609375 0 \nL 7.328125 0 \nL 7.328125 8.296875 \nQ 12.9375 14.109375 22.625 23.890625 \nQ 32.328125 33.6875 34.8125 36.53125 \nQ 39.546875 41.84375 41.421875 45.53125 \nQ 43.3125 49.21875 43.3125 52.78125 \nQ 43.3125 58.59375 39.234375 62.25 \nQ 35.15625 65.921875 28.609375 65.921875 \nQ 23.96875 65.921875 18.8125 64.3125 \nQ 13.671875 62.703125 7.8125 59.421875 \nL 7.8125 69.390625 \nQ 13.765625 71.78125 18.9375 73 \nQ 24.125 74.21875 28.421875 74.21875 \nQ 39.75 74.21875 46.484375 68.546875 \nQ 53.21875 62.890625 53.21875 53.421875 \nQ 53.21875 48.921875 51.53125 44.890625 \nQ 49.859375 40.875 45.40625 35.40625 \nQ 44.1875 33.984375 37.640625 27.21875 \nQ 31.109375 20.453125 19.1875 8.296875 \nz\n\" id=\"DejaVuSans-50\"/>\n      </defs>\n      <g transform=\"translate(116.751843 254.356562)scale(0.1 -0.1)\">\n       <use xlink:href=\"#DejaVuSans-50\"/>\n       <use x=\"63.623047\" xlink:href=\"#DejaVuSans-48\"/>\n       <use x=\"127.246094\" xlink:href=\"#DejaVuSans-48\"/>\n      </g>\n     </g>\n    </g>\n    <g id=\"xtick_3\">\n     <g id=\"line2d_3\">\n      <g>\n       <use style=\"stroke:#000000;stroke-width:0.8;\" x=\"187.229254\" xlink:href=\"#m299253228c\" y=\"239.758125\"/>\n      </g>\n     </g>\n     <g id=\"text_3\">\n      <!-- 400 -->\n      <defs>\n       <path d=\"M 37.796875 64.3125 \nL 12.890625 25.390625 \nL 37.796875 25.390625 \nz\nM 35.203125 72.90625 \nL 47.609375 72.90625 \nL 47.609375 25.390625 \nL 58.015625 25.390625 \nL 58.015625 17.1875 \nL 47.609375 17.1875 \nL 47.609375 0 \nL 37.796875 0 \nL 37.796875 17.1875 \nL 4.890625 17.1875 \nL 4.890625 26.703125 \nz\n\" id=\"DejaVuSans-52\"/>\n      </defs>\n      <g transform=\"translate(177.685504 254.356562)scale(0.1 -0.1)\">\n       <use xlink:href=\"#DejaVuSans-52\"/>\n       <use x=\"63.623047\" xlink:href=\"#DejaVuSans-48\"/>\n       <use x=\"127.246094\" xlink:href=\"#DejaVuSans-48\"/>\n      </g>\n     </g>\n    </g>\n    <g id=\"xtick_4\">\n     <g id=\"line2d_4\">\n      <g>\n       <use style=\"stroke:#000000;stroke-width:0.8;\" x=\"248.162915\" xlink:href=\"#m299253228c\" y=\"239.758125\"/>\n      </g>\n     </g>\n     <g id=\"text_4\">\n      <!-- 600 -->\n      <defs>\n       <path d=\"M 33.015625 40.375 \nQ 26.375 40.375 22.484375 35.828125 \nQ 18.609375 31.296875 18.609375 23.390625 \nQ 18.609375 15.53125 22.484375 10.953125 \nQ 26.375 6.390625 33.015625 6.390625 \nQ 39.65625 6.390625 43.53125 10.953125 \nQ 47.40625 15.53125 47.40625 23.390625 \nQ 47.40625 31.296875 43.53125 35.828125 \nQ 39.65625 40.375 33.015625 40.375 \nz\nM 52.59375 71.296875 \nL 52.59375 62.3125 \nQ 48.875 64.0625 45.09375 64.984375 \nQ 41.3125 65.921875 37.59375 65.921875 \nQ 27.828125 65.921875 22.671875 59.328125 \nQ 17.53125 52.734375 16.796875 39.40625 \nQ 19.671875 43.65625 24.015625 45.921875 \nQ 28.375 48.1875 33.59375 48.1875 \nQ 44.578125 48.1875 50.953125 41.515625 \nQ 57.328125 34.859375 57.328125 23.390625 \nQ 57.328125 12.15625 50.6875 5.359375 \nQ 44.046875 -1.421875 33.015625 -1.421875 \nQ 20.359375 -1.421875 13.671875 8.265625 \nQ 6.984375 17.96875 6.984375 36.375 \nQ 6.984375 53.65625 15.1875 63.9375 \nQ 23.390625 74.21875 37.203125 74.21875 \nQ 40.921875 74.21875 44.703125 73.484375 \nQ 48.484375 72.75 52.59375 71.296875 \nz\n\" id=\"DejaVuSans-54\"/>\n      </defs>\n      <g transform=\"translate(238.619165 254.356562)scale(0.1 -0.1)\">\n       <use xlink:href=\"#DejaVuSans-54\"/>\n       <use x=\"63.623047\" xlink:href=\"#DejaVuSans-48\"/>\n       <use x=\"127.246094\" xlink:href=\"#DejaVuSans-48\"/>\n      </g>\n     </g>\n    </g>\n    <g id=\"xtick_5\">\n     <g id=\"line2d_5\">\n      <g>\n       <use style=\"stroke:#000000;stroke-width:0.8;\" x=\"309.096576\" xlink:href=\"#m299253228c\" y=\"239.758125\"/>\n      </g>\n     </g>\n     <g id=\"text_5\">\n      <!-- 800 -->\n      <defs>\n       <path d=\"M 31.78125 34.625 \nQ 24.75 34.625 20.71875 30.859375 \nQ 16.703125 27.09375 16.703125 20.515625 \nQ 16.703125 13.921875 20.71875 10.15625 \nQ 24.75 6.390625 31.78125 6.390625 \nQ 38.8125 6.390625 42.859375 10.171875 \nQ 46.921875 13.96875 46.921875 20.515625 \nQ 46.921875 27.09375 42.890625 30.859375 \nQ 38.875 34.625 31.78125 34.625 \nz\nM 21.921875 38.8125 \nQ 15.578125 40.375 12.03125 44.71875 \nQ 8.5 49.078125 8.5 55.328125 \nQ 8.5 64.0625 14.71875 69.140625 \nQ 20.953125 74.21875 31.78125 74.21875 \nQ 42.671875 74.21875 48.875 69.140625 \nQ 55.078125 64.0625 55.078125 55.328125 \nQ 55.078125 49.078125 51.53125 44.71875 \nQ 48 40.375 41.703125 38.8125 \nQ 48.828125 37.15625 52.796875 32.3125 \nQ 56.78125 27.484375 56.78125 20.515625 \nQ 56.78125 9.90625 50.3125 4.234375 \nQ 43.84375 -1.421875 31.78125 -1.421875 \nQ 19.734375 -1.421875 13.25 4.234375 \nQ 6.78125 9.90625 6.78125 20.515625 \nQ 6.78125 27.484375 10.78125 32.3125 \nQ 14.796875 37.15625 21.921875 38.8125 \nz\nM 18.3125 54.390625 \nQ 18.3125 48.734375 21.84375 45.5625 \nQ 25.390625 42.390625 31.78125 42.390625 \nQ 38.140625 42.390625 41.71875 45.5625 \nQ 45.3125 48.734375 45.3125 54.390625 \nQ 45.3125 60.0625 41.71875 63.234375 \nQ 38.140625 66.40625 31.78125 66.40625 \nQ 25.390625 66.40625 21.84375 63.234375 \nQ 18.3125 60.0625 18.3125 54.390625 \nz\n\" id=\"DejaVuSans-56\"/>\n      </defs>\n      <g transform=\"translate(299.552826 254.356562)scale(0.1 -0.1)\">\n       <use xlink:href=\"#DejaVuSans-56\"/>\n       <use x=\"63.623047\" xlink:href=\"#DejaVuSans-48\"/>\n       <use x=\"127.246094\" xlink:href=\"#DejaVuSans-48\"/>\n      </g>\n     </g>\n    </g>\n    <g id=\"xtick_6\">\n     <g id=\"line2d_6\">\n      <g>\n       <use style=\"stroke:#000000;stroke-width:0.8;\" x=\"370.030236\" xlink:href=\"#m299253228c\" y=\"239.758125\"/>\n      </g>\n     </g>\n     <g id=\"text_6\">\n      <!-- 1000 -->\n      <defs>\n       <path d=\"M 12.40625 8.296875 \nL 28.515625 8.296875 \nL 28.515625 63.921875 \nL 10.984375 60.40625 \nL 10.984375 69.390625 \nL 28.421875 72.90625 \nL 38.28125 72.90625 \nL 38.28125 8.296875 \nL 54.390625 8.296875 \nL 54.390625 0 \nL 12.40625 0 \nz\n\" id=\"DejaVuSans-49\"/>\n      </defs>\n      <g transform=\"translate(357.305236 254.356562)scale(0.1 -0.1)\">\n       <use xlink:href=\"#DejaVuSans-49\"/>\n       <use x=\"63.623047\" xlink:href=\"#DejaVuSans-48\"/>\n       <use x=\"127.246094\" xlink:href=\"#DejaVuSans-48\"/>\n       <use x=\"190.869141\" xlink:href=\"#DejaVuSans-48\"/>\n      </g>\n     </g>\n    </g>\n    <g id=\"text_7\">\n     <!-- # of Iterations -->\n     <defs>\n      <path d=\"M 51.125 44 \nL 36.921875 44 \nL 32.8125 27.6875 \nL 47.125 27.6875 \nz\nM 43.796875 71.78125 \nL 38.71875 51.515625 \nL 52.984375 51.515625 \nL 58.109375 71.78125 \nL 65.921875 71.78125 \nL 60.890625 51.515625 \nL 76.125 51.515625 \nL 76.125 44 \nL 58.984375 44 \nL 54.984375 27.6875 \nL 70.515625 27.6875 \nL 70.515625 20.21875 \nL 53.078125 20.21875 \nL 48 0 \nL 40.1875 0 \nL 45.21875 20.21875 \nL 30.90625 20.21875 \nL 25.875 0 \nL 18.015625 0 \nL 23.09375 20.21875 \nL 7.71875 20.21875 \nL 7.71875 27.6875 \nL 24.90625 27.6875 \nL 29 44 \nL 13.28125 44 \nL 13.28125 51.515625 \nL 30.90625 51.515625 \nL 35.890625 71.78125 \nz\n\" id=\"DejaVuSans-35\"/>\n      <path id=\"DejaVuSans-32\"/>\n      <path d=\"M 30.609375 48.390625 \nQ 23.390625 48.390625 19.1875 42.75 \nQ 14.984375 37.109375 14.984375 27.296875 \nQ 14.984375 17.484375 19.15625 11.84375 \nQ 23.34375 6.203125 30.609375 6.203125 \nQ 37.796875 6.203125 41.984375 11.859375 \nQ 46.1875 17.53125 46.1875 27.296875 \nQ 46.1875 37.015625 41.984375 42.703125 \nQ 37.796875 48.390625 30.609375 48.390625 \nz\nM 30.609375 56 \nQ 42.328125 56 49.015625 48.375 \nQ 55.71875 40.765625 55.71875 27.296875 \nQ 55.71875 13.875 49.015625 6.21875 \nQ 42.328125 -1.421875 30.609375 -1.421875 \nQ 18.84375 -1.421875 12.171875 6.21875 \nQ 5.515625 13.875 5.515625 27.296875 \nQ 5.515625 40.765625 12.171875 48.375 \nQ 18.84375 56 30.609375 56 \nz\n\" id=\"DejaVuSans-111\"/>\n      <path d=\"M 37.109375 75.984375 \nL 37.109375 68.5 \nL 28.515625 68.5 \nQ 23.6875 68.5 21.796875 66.546875 \nQ 19.921875 64.59375 19.921875 59.515625 \nL 19.921875 54.6875 \nL 34.71875 54.6875 \nL 34.71875 47.703125 \nL 19.921875 47.703125 \nL 19.921875 0 \nL 10.890625 0 \nL 10.890625 47.703125 \nL 2.296875 47.703125 \nL 2.296875 54.6875 \nL 10.890625 54.6875 \nL 10.890625 58.5 \nQ 10.890625 67.625 15.140625 71.796875 \nQ 19.390625 75.984375 28.609375 75.984375 \nz\n\" id=\"DejaVuSans-102\"/>\n      <path d=\"M 9.8125 72.90625 \nL 19.671875 72.90625 \nL 19.671875 0 \nL 9.8125 0 \nz\n\" id=\"DejaVuSans-73\"/>\n      <path d=\"M 18.3125 70.21875 \nL 18.3125 54.6875 \nL 36.8125 54.6875 \nL 36.8125 47.703125 \nL 18.3125 47.703125 \nL 18.3125 18.015625 \nQ 18.3125 11.328125 20.140625 9.421875 \nQ 21.96875 7.515625 27.59375 7.515625 \nL 36.8125 7.515625 \nL 36.8125 0 \nL 27.59375 0 \nQ 17.1875 0 13.234375 3.875 \nQ 9.28125 7.765625 9.28125 18.015625 \nL 9.28125 47.703125 \nL 2.6875 47.703125 \nL 2.6875 54.6875 \nL 9.28125 54.6875 \nL 9.28125 70.21875 \nz\n\" id=\"DejaVuSans-116\"/>\n      <path d=\"M 56.203125 29.59375 \nL 56.203125 25.203125 \nL 14.890625 25.203125 \nQ 15.484375 15.921875 20.484375 11.0625 \nQ 25.484375 6.203125 34.421875 6.203125 \nQ 39.59375 6.203125 44.453125 7.46875 \nQ 49.3125 8.734375 54.109375 11.28125 \nL 54.109375 2.78125 \nQ 49.265625 0.734375 44.1875 -0.34375 \nQ 39.109375 -1.421875 33.890625 -1.421875 \nQ 20.796875 -1.421875 13.15625 6.1875 \nQ 5.515625 13.8125 5.515625 26.8125 \nQ 5.515625 40.234375 12.765625 48.109375 \nQ 20.015625 56 32.328125 56 \nQ 43.359375 56 49.78125 48.890625 \nQ 56.203125 41.796875 56.203125 29.59375 \nz\nM 47.21875 32.234375 \nQ 47.125 39.59375 43.09375 43.984375 \nQ 39.0625 48.390625 32.421875 48.390625 \nQ 24.90625 48.390625 20.390625 44.140625 \nQ 15.875 39.890625 15.1875 32.171875 \nz\n\" id=\"DejaVuSans-101\"/>\n      <path d=\"M 41.109375 46.296875 \nQ 39.59375 47.171875 37.8125 47.578125 \nQ 36.03125 48 33.890625 48 \nQ 26.265625 48 22.1875 43.046875 \nQ 18.109375 38.09375 18.109375 28.8125 \nL 18.109375 0 \nL 9.078125 0 \nL 9.078125 54.6875 \nL 18.109375 54.6875 \nL 18.109375 46.1875 \nQ 20.953125 51.171875 25.484375 53.578125 \nQ 30.03125 56 36.53125 56 \nQ 37.453125 56 38.578125 55.875 \nQ 39.703125 55.765625 41.0625 55.515625 \nz\n\" id=\"DejaVuSans-114\"/>\n      <path d=\"M 34.28125 27.484375 \nQ 23.390625 27.484375 19.1875 25 \nQ 14.984375 22.515625 14.984375 16.5 \nQ 14.984375 11.71875 18.140625 8.90625 \nQ 21.296875 6.109375 26.703125 6.109375 \nQ 34.1875 6.109375 38.703125 11.40625 \nQ 43.21875 16.703125 43.21875 25.484375 \nL 43.21875 27.484375 \nz\nM 52.203125 31.203125 \nL 52.203125 0 \nL 43.21875 0 \nL 43.21875 8.296875 \nQ 40.140625 3.328125 35.546875 0.953125 \nQ 30.953125 -1.421875 24.3125 -1.421875 \nQ 15.921875 -1.421875 10.953125 3.296875 \nQ 6 8.015625 6 15.921875 \nQ 6 25.140625 12.171875 29.828125 \nQ 18.359375 34.515625 30.609375 34.515625 \nL 43.21875 34.515625 \nL 43.21875 35.40625 \nQ 43.21875 41.609375 39.140625 45 \nQ 35.0625 48.390625 27.6875 48.390625 \nQ 23 48.390625 18.546875 47.265625 \nQ 14.109375 46.140625 10.015625 43.890625 \nL 10.015625 52.203125 \nQ 14.9375 54.109375 19.578125 55.046875 \nQ 24.21875 56 28.609375 56 \nQ 40.484375 56 46.34375 49.84375 \nQ 52.203125 43.703125 52.203125 31.203125 \nz\n\" id=\"DejaVuSans-97\"/>\n      <path d=\"M 9.421875 54.6875 \nL 18.40625 54.6875 \nL 18.40625 0 \nL 9.421875 0 \nz\nM 9.421875 75.984375 \nL 18.40625 75.984375 \nL 18.40625 64.59375 \nL 9.421875 64.59375 \nz\n\" id=\"DejaVuSans-105\"/>\n      <path d=\"M 54.890625 33.015625 \nL 54.890625 0 \nL 45.90625 0 \nL 45.90625 32.71875 \nQ 45.90625 40.484375 42.875 44.328125 \nQ 39.84375 48.1875 33.796875 48.1875 \nQ 26.515625 48.1875 22.3125 43.546875 \nQ 18.109375 38.921875 18.109375 30.90625 \nL 18.109375 0 \nL 9.078125 0 \nL 9.078125 54.6875 \nL 18.109375 54.6875 \nL 18.109375 46.1875 \nQ 21.34375 51.125 25.703125 53.5625 \nQ 30.078125 56 35.796875 56 \nQ 45.21875 56 50.046875 50.171875 \nQ 54.890625 44.34375 54.890625 33.015625 \nz\n\" id=\"DejaVuSans-110\"/>\n      <path d=\"M 44.28125 53.078125 \nL 44.28125 44.578125 \nQ 40.484375 46.53125 36.375 47.5 \nQ 32.28125 48.484375 27.875 48.484375 \nQ 21.1875 48.484375 17.84375 46.4375 \nQ 14.5 44.390625 14.5 40.28125 \nQ 14.5 37.15625 16.890625 35.375 \nQ 19.28125 33.59375 26.515625 31.984375 \nL 29.59375 31.296875 \nQ 39.15625 29.25 43.1875 25.515625 \nQ 47.21875 21.78125 47.21875 15.09375 \nQ 47.21875 7.46875 41.1875 3.015625 \nQ 35.15625 -1.421875 24.609375 -1.421875 \nQ 20.21875 -1.421875 15.453125 -0.5625 \nQ 10.6875 0.296875 5.421875 2 \nL 5.421875 11.28125 \nQ 10.40625 8.6875 15.234375 7.390625 \nQ 20.0625 6.109375 24.8125 6.109375 \nQ 31.15625 6.109375 34.5625 8.28125 \nQ 37.984375 10.453125 37.984375 14.40625 \nQ 37.984375 18.0625 35.515625 20.015625 \nQ 33.0625 21.96875 24.703125 23.78125 \nL 21.578125 24.515625 \nQ 13.234375 26.265625 9.515625 29.90625 \nQ 5.8125 33.546875 5.8125 39.890625 \nQ 5.8125 47.609375 11.28125 51.796875 \nQ 16.75 56 26.8125 56 \nQ 31.78125 56 36.171875 55.265625 \nQ 40.578125 54.546875 44.28125 53.078125 \nz\n\" id=\"DejaVuSans-115\"/>\n     </defs>\n     <g transform=\"translate(181.542969 268.034687)scale(0.1 -0.1)\">\n      <use xlink:href=\"#DejaVuSans-35\"/>\n      <use x=\"83.789062\" xlink:href=\"#DejaVuSans-32\"/>\n      <use x=\"115.576172\" xlink:href=\"#DejaVuSans-111\"/>\n      <use x=\"176.757812\" xlink:href=\"#DejaVuSans-102\"/>\n      <use x=\"211.962891\" xlink:href=\"#DejaVuSans-32\"/>\n      <use x=\"243.75\" xlink:href=\"#DejaVuSans-73\"/>\n      <use x=\"273.242188\" xlink:href=\"#DejaVuSans-116\"/>\n      <use x=\"312.451172\" xlink:href=\"#DejaVuSans-101\"/>\n      <use x=\"373.974609\" xlink:href=\"#DejaVuSans-114\"/>\n      <use x=\"415.087891\" xlink:href=\"#DejaVuSans-97\"/>\n      <use x=\"476.367188\" xlink:href=\"#DejaVuSans-116\"/>\n      <use x=\"515.576172\" xlink:href=\"#DejaVuSans-105\"/>\n      <use x=\"543.359375\" xlink:href=\"#DejaVuSans-111\"/>\n      <use x=\"604.541016\" xlink:href=\"#DejaVuSans-110\"/>\n      <use x=\"667.919922\" xlink:href=\"#DejaVuSans-115\"/>\n     </g>\n    </g>\n   </g>\n   <g id=\"matplotlib.axis_2\">\n    <g id=\"ytick_1\">\n     <g id=\"line2d_7\">\n      <defs>\n       <path d=\"M 0 0 \nL -3.5 0 \n\" id=\"ma7139d38c3\" style=\"stroke:#000000;stroke-width:0.8;\"/>\n      </defs>\n      <g>\n       <use style=\"stroke:#000000;stroke-width:0.8;\" x=\"50.14375\" xlink:href=\"#ma7139d38c3\" y=\"229.874489\"/>\n      </g>\n     </g>\n     <g id=\"text_8\">\n      <!-- 0.50 -->\n      <defs>\n       <path d=\"M 10.6875 12.40625 \nL 21 12.40625 \nL 21 0 \nL 10.6875 0 \nz\n\" id=\"DejaVuSans-46\"/>\n       <path d=\"M 10.796875 72.90625 \nL 49.515625 72.90625 \nL 49.515625 64.59375 \nL 19.828125 64.59375 \nL 19.828125 46.734375 \nQ 21.96875 47.46875 24.109375 47.828125 \nQ 26.265625 48.1875 28.421875 48.1875 \nQ 40.625 48.1875 47.75 41.5 \nQ 54.890625 34.8125 54.890625 23.390625 \nQ 54.890625 11.625 47.5625 5.09375 \nQ 40.234375 -1.421875 26.90625 -1.421875 \nQ 22.3125 -1.421875 17.546875 -0.640625 \nQ 12.796875 0.140625 7.71875 1.703125 \nL 7.71875 11.625 \nQ 12.109375 9.234375 16.796875 8.0625 \nQ 21.484375 6.890625 26.703125 6.890625 \nQ 35.15625 6.890625 40.078125 11.328125 \nQ 45.015625 15.765625 45.015625 23.390625 \nQ 45.015625 31 40.078125 35.4375 \nQ 35.15625 39.890625 26.703125 39.890625 \nQ 22.75 39.890625 18.8125 39.015625 \nQ 14.890625 38.140625 10.796875 36.28125 \nz\n\" id=\"DejaVuSans-53\"/>\n      </defs>\n      <g transform=\"translate(20.878125 233.673707)scale(0.1 -0.1)\">\n       <use xlink:href=\"#DejaVuSans-48\"/>\n       <use x=\"63.623047\" xlink:href=\"#DejaVuSans-46\"/>\n       <use x=\"95.410156\" xlink:href=\"#DejaVuSans-53\"/>\n       <use x=\"159.033203\" xlink:href=\"#DejaVuSans-48\"/>\n      </g>\n     </g>\n    </g>\n    <g id=\"ytick_2\">\n     <g id=\"line2d_8\">\n      <g>\n       <use style=\"stroke:#000000;stroke-width:0.8;\" x=\"50.14375\" xlink:href=\"#ma7139d38c3\" y=\"204.852624\"/>\n      </g>\n     </g>\n     <g id=\"text_9\">\n      <!-- 0.55 -->\n      <g transform=\"translate(20.878125 208.651843)scale(0.1 -0.1)\">\n       <use xlink:href=\"#DejaVuSans-48\"/>\n       <use x=\"63.623047\" xlink:href=\"#DejaVuSans-46\"/>\n       <use x=\"95.410156\" xlink:href=\"#DejaVuSans-53\"/>\n       <use x=\"159.033203\" xlink:href=\"#DejaVuSans-53\"/>\n      </g>\n     </g>\n    </g>\n    <g id=\"ytick_3\">\n     <g id=\"line2d_9\">\n      <g>\n       <use style=\"stroke:#000000;stroke-width:0.8;\" x=\"50.14375\" xlink:href=\"#ma7139d38c3\" y=\"179.83076\"/>\n      </g>\n     </g>\n     <g id=\"text_10\">\n      <!-- 0.60 -->\n      <g transform=\"translate(20.878125 183.629979)scale(0.1 -0.1)\">\n       <use xlink:href=\"#DejaVuSans-48\"/>\n       <use x=\"63.623047\" xlink:href=\"#DejaVuSans-46\"/>\n       <use x=\"95.410156\" xlink:href=\"#DejaVuSans-54\"/>\n       <use x=\"159.033203\" xlink:href=\"#DejaVuSans-48\"/>\n      </g>\n     </g>\n    </g>\n    <g id=\"ytick_4\">\n     <g id=\"line2d_10\">\n      <g>\n       <use style=\"stroke:#000000;stroke-width:0.8;\" x=\"50.14375\" xlink:href=\"#ma7139d38c3\" y=\"154.808896\"/>\n      </g>\n     </g>\n     <g id=\"text_11\">\n      <!-- 0.65 -->\n      <g transform=\"translate(20.878125 158.608115)scale(0.1 -0.1)\">\n       <use xlink:href=\"#DejaVuSans-48\"/>\n       <use x=\"63.623047\" xlink:href=\"#DejaVuSans-46\"/>\n       <use x=\"95.410156\" xlink:href=\"#DejaVuSans-54\"/>\n       <use x=\"159.033203\" xlink:href=\"#DejaVuSans-53\"/>\n      </g>\n     </g>\n    </g>\n    <g id=\"ytick_5\">\n     <g id=\"line2d_11\">\n      <g>\n       <use style=\"stroke:#000000;stroke-width:0.8;\" x=\"50.14375\" xlink:href=\"#ma7139d38c3\" y=\"129.787032\"/>\n      </g>\n     </g>\n     <g id=\"text_12\">\n      <!-- 0.70 -->\n      <defs>\n       <path d=\"M 8.203125 72.90625 \nL 55.078125 72.90625 \nL 55.078125 68.703125 \nL 28.609375 0 \nL 18.3125 0 \nL 43.21875 64.59375 \nL 8.203125 64.59375 \nz\n\" id=\"DejaVuSans-55\"/>\n      </defs>\n      <g transform=\"translate(20.878125 133.586251)scale(0.1 -0.1)\">\n       <use xlink:href=\"#DejaVuSans-48\"/>\n       <use x=\"63.623047\" xlink:href=\"#DejaVuSans-46\"/>\n       <use x=\"95.410156\" xlink:href=\"#DejaVuSans-55\"/>\n       <use x=\"159.033203\" xlink:href=\"#DejaVuSans-48\"/>\n      </g>\n     </g>\n    </g>\n    <g id=\"ytick_6\">\n     <g id=\"line2d_12\">\n      <g>\n       <use style=\"stroke:#000000;stroke-width:0.8;\" x=\"50.14375\" xlink:href=\"#ma7139d38c3\" y=\"104.765168\"/>\n      </g>\n     </g>\n     <g id=\"text_13\">\n      <!-- 0.75 -->\n      <g transform=\"translate(20.878125 108.564386)scale(0.1 -0.1)\">\n       <use xlink:href=\"#DejaVuSans-48\"/>\n       <use x=\"63.623047\" xlink:href=\"#DejaVuSans-46\"/>\n       <use x=\"95.410156\" xlink:href=\"#DejaVuSans-55\"/>\n       <use x=\"159.033203\" xlink:href=\"#DejaVuSans-53\"/>\n      </g>\n     </g>\n    </g>\n    <g id=\"ytick_7\">\n     <g id=\"line2d_13\">\n      <g>\n       <use style=\"stroke:#000000;stroke-width:0.8;\" x=\"50.14375\" xlink:href=\"#ma7139d38c3\" y=\"79.743303\"/>\n      </g>\n     </g>\n     <g id=\"text_14\">\n      <!-- 0.80 -->\n      <g transform=\"translate(20.878125 83.542522)scale(0.1 -0.1)\">\n       <use xlink:href=\"#DejaVuSans-48\"/>\n       <use x=\"63.623047\" xlink:href=\"#DejaVuSans-46\"/>\n       <use x=\"95.410156\" xlink:href=\"#DejaVuSans-56\"/>\n       <use x=\"159.033203\" xlink:href=\"#DejaVuSans-48\"/>\n      </g>\n     </g>\n    </g>\n    <g id=\"ytick_8\">\n     <g id=\"line2d_14\">\n      <g>\n       <use style=\"stroke:#000000;stroke-width:0.8;\" x=\"50.14375\" xlink:href=\"#ma7139d38c3\" y=\"54.721439\"/>\n      </g>\n     </g>\n     <g id=\"text_15\">\n      <!-- 0.85 -->\n      <g transform=\"translate(20.878125 58.520658)scale(0.1 -0.1)\">\n       <use xlink:href=\"#DejaVuSans-48\"/>\n       <use x=\"63.623047\" xlink:href=\"#DejaVuSans-46\"/>\n       <use x=\"95.410156\" xlink:href=\"#DejaVuSans-56\"/>\n       <use x=\"159.033203\" xlink:href=\"#DejaVuSans-53\"/>\n      </g>\n     </g>\n    </g>\n    <g id=\"ytick_9\">\n     <g id=\"line2d_15\">\n      <g>\n       <use style=\"stroke:#000000;stroke-width:0.8;\" x=\"50.14375\" xlink:href=\"#ma7139d38c3\" y=\"29.699575\"/>\n      </g>\n     </g>\n     <g id=\"text_16\">\n      <!-- 0.90 -->\n      <defs>\n       <path d=\"M 10.984375 1.515625 \nL 10.984375 10.5 \nQ 14.703125 8.734375 18.5 7.8125 \nQ 22.3125 6.890625 25.984375 6.890625 \nQ 35.75 6.890625 40.890625 13.453125 \nQ 46.046875 20.015625 46.78125 33.40625 \nQ 43.953125 29.203125 39.59375 26.953125 \nQ 35.25 24.703125 29.984375 24.703125 \nQ 19.046875 24.703125 12.671875 31.3125 \nQ 6.296875 37.9375 6.296875 49.421875 \nQ 6.296875 60.640625 12.9375 67.421875 \nQ 19.578125 74.21875 30.609375 74.21875 \nQ 43.265625 74.21875 49.921875 64.515625 \nQ 56.59375 54.828125 56.59375 36.375 \nQ 56.59375 19.140625 48.40625 8.859375 \nQ 40.234375 -1.421875 26.421875 -1.421875 \nQ 22.703125 -1.421875 18.890625 -0.6875 \nQ 15.09375 0.046875 10.984375 1.515625 \nz\nM 30.609375 32.421875 \nQ 37.25 32.421875 41.125 36.953125 \nQ 45.015625 41.5 45.015625 49.421875 \nQ 45.015625 57.28125 41.125 61.84375 \nQ 37.25 66.40625 30.609375 66.40625 \nQ 23.96875 66.40625 20.09375 61.84375 \nQ 16.21875 57.28125 16.21875 49.421875 \nQ 16.21875 41.5 20.09375 36.953125 \nQ 23.96875 32.421875 30.609375 32.421875 \nz\n\" id=\"DejaVuSans-57\"/>\n      </defs>\n      <g transform=\"translate(20.878125 33.498794)scale(0.1 -0.1)\">\n       <use xlink:href=\"#DejaVuSans-48\"/>\n       <use x=\"63.623047\" xlink:href=\"#DejaVuSans-46\"/>\n       <use x=\"95.410156\" xlink:href=\"#DejaVuSans-57\"/>\n       <use x=\"159.033203\" xlink:href=\"#DejaVuSans-48\"/>\n      </g>\n     </g>\n    </g>\n    <g id=\"text_17\">\n     <!-- Accuracy -->\n     <defs>\n      <path d=\"M 34.1875 63.1875 \nL 20.796875 26.90625 \nL 47.609375 26.90625 \nz\nM 28.609375 72.90625 \nL 39.796875 72.90625 \nL 67.578125 0 \nL 57.328125 0 \nL 50.6875 18.703125 \nL 17.828125 18.703125 \nL 11.1875 0 \nL 0.78125 0 \nz\n\" id=\"DejaVuSans-65\"/>\n      <path d=\"M 48.78125 52.59375 \nL 48.78125 44.1875 \nQ 44.96875 46.296875 41.140625 47.34375 \nQ 37.3125 48.390625 33.40625 48.390625 \nQ 24.65625 48.390625 19.8125 42.84375 \nQ 14.984375 37.3125 14.984375 27.296875 \nQ 14.984375 17.28125 19.8125 11.734375 \nQ 24.65625 6.203125 33.40625 6.203125 \nQ 37.3125 6.203125 41.140625 7.25 \nQ 44.96875 8.296875 48.78125 10.40625 \nL 48.78125 2.09375 \nQ 45.015625 0.34375 40.984375 -0.53125 \nQ 36.96875 -1.421875 32.421875 -1.421875 \nQ 20.0625 -1.421875 12.78125 6.34375 \nQ 5.515625 14.109375 5.515625 27.296875 \nQ 5.515625 40.671875 12.859375 48.328125 \nQ 20.21875 56 33.015625 56 \nQ 37.15625 56 41.109375 55.140625 \nQ 45.0625 54.296875 48.78125 52.59375 \nz\n\" id=\"DejaVuSans-99\"/>\n      <path d=\"M 8.5 21.578125 \nL 8.5 54.6875 \nL 17.484375 54.6875 \nL 17.484375 21.921875 \nQ 17.484375 14.15625 20.5 10.265625 \nQ 23.53125 6.390625 29.59375 6.390625 \nQ 36.859375 6.390625 41.078125 11.03125 \nQ 45.3125 15.671875 45.3125 23.6875 \nL 45.3125 54.6875 \nL 54.296875 54.6875 \nL 54.296875 0 \nL 45.3125 0 \nL 45.3125 8.40625 \nQ 42.046875 3.421875 37.71875 1 \nQ 33.40625 -1.421875 27.6875 -1.421875 \nQ 18.265625 -1.421875 13.375 4.4375 \nQ 8.5 10.296875 8.5 21.578125 \nz\nM 31.109375 56 \nz\n\" id=\"DejaVuSans-117\"/>\n      <path d=\"M 32.171875 -5.078125 \nQ 28.375 -14.84375 24.75 -17.8125 \nQ 21.140625 -20.796875 15.09375 -20.796875 \nL 7.90625 -20.796875 \nL 7.90625 -13.28125 \nL 13.1875 -13.28125 \nQ 16.890625 -13.28125 18.9375 -11.515625 \nQ 21 -9.765625 23.484375 -3.21875 \nL 25.09375 0.875 \nL 2.984375 54.6875 \nL 12.5 54.6875 \nL 29.59375 11.921875 \nL 46.6875 54.6875 \nL 56.203125 54.6875 \nz\n\" id=\"DejaVuSans-121\"/>\n     </defs>\n     <g transform=\"translate(14.798438 153.86625)rotate(-90)scale(0.1 -0.1)\">\n      <use xlink:href=\"#DejaVuSans-65\"/>\n      <use x=\"66.658203\" xlink:href=\"#DejaVuSans-99\"/>\n      <use x=\"121.638672\" xlink:href=\"#DejaVuSans-99\"/>\n      <use x=\"176.619141\" xlink:href=\"#DejaVuSans-117\"/>\n      <use x=\"239.998047\" xlink:href=\"#DejaVuSans-114\"/>\n      <use x=\"281.111328\" xlink:href=\"#DejaVuSans-97\"/>\n      <use x=\"342.390625\" xlink:href=\"#DejaVuSans-99\"/>\n      <use x=\"397.371094\" xlink:href=\"#DejaVuSans-121\"/>\n     </g>\n    </g>\n   </g>\n   <g id=\"line2d_16\">\n    <path clip-path=\"url(#pe5c37a63bf)\" d=\"M 65.361932 229.874489 \nL 66.275937 229.874489 \nL 66.580605 194.843879 \nL 66.885273 229.874489 \nL 67.189942 129.787032 \nL 67.49461 112.271727 \nL 67.799278 109.76954 \nL 68.103947 124.782659 \nL 68.408615 109.76954 \nL 68.713283 124.782659 \nL 69.017951 109.76954 \nL 69.32262 114.773913 \nL 69.627288 102.262981 \nL 69.931956 104.765168 \nL 70.236625 99.760795 \nL 70.845961 94.756422 \nL 71.455298 82.24549 \nL 72.369303 74.738931 \nL 72.673971 74.738931 \nL 72.978639 67.232371 \nL 73.283308 67.232371 \nL 73.587976 62.227998 \nL 74.501981 62.227998 \nL 74.806649 57.223626 \nL 75.415986 52.219253 \nL 76.025322 52.219253 \nL 76.634659 47.21488 \nL 76.939327 47.21488 \nL 77.243996 44.712693 \nL 80.595347 44.712693 \nL 80.900015 47.21488 \nL 81.509352 47.21488 \nL 81.81402 44.712693 \nL 83.337362 44.712693 \nL 83.64203 47.21488 \nL 86.993381 47.21488 \nL 87.29805 49.717066 \nL 89.12606 49.717066 \nL 89.430728 52.219253 \nL 194.236625 52.219253 \nL 194.541293 49.717066 \nL 213.12606 49.717066 \nL 213.430728 52.219253 \nL 213.735396 49.717066 \nL 214.040064 52.219253 \nL 214.344733 52.219253 \nL 214.649401 49.717066 \nL 214.954069 52.219253 \nL 215.258738 47.21488 \nL 215.563406 49.717066 \nL 215.868074 47.21488 \nL 216.172743 49.717066 \nL 216.477411 47.21488 \nL 216.782079 49.717066 \nL 217.086748 54.721439 \nL 217.391416 44.712693 \nL 217.696084 52.219253 \nL 218.000752 44.712693 \nL 218.305421 49.717066 \nL 218.610089 47.21488 \nL 218.914757 54.721439 \nL 219.219426 52.219253 \nL 219.524094 57.223626 \nL 219.828762 44.712693 \nL 220.133431 49.717066 \nL 220.438099 44.712693 \nL 220.742767 52.219253 \nL 221.047436 44.712693 \nL 221.352104 49.717066 \nL 221.656772 44.712693 \nL 221.96144 52.219253 \nL 222.266109 44.712693 \nL 222.570777 52.219253 \nL 222.875445 44.712693 \nL 223.180114 52.219253 \nL 223.484782 44.712693 \nL 223.78945 52.219253 \nL 224.094119 44.712693 \nL 224.398787 52.219253 \nL 224.703455 42.210507 \nL 225.008123 52.219253 \nL 225.312792 42.210507 \nL 225.61746 52.219253 \nL 225.922128 42.210507 \nL 226.226797 52.219253 \nL 226.531465 42.210507 \nL 226.836133 49.717066 \nL 227.140802 42.210507 \nL 227.44547 49.717066 \nL 227.750138 42.210507 \nL 228.054807 49.717066 \nL 228.359475 42.210507 \nL 228.664143 49.717066 \nL 228.968811 42.210507 \nL 229.27348 49.717066 \nL 229.578148 44.712693 \nL 229.882816 49.717066 \nL 230.187485 44.712693 \nL 230.492153 49.717066 \nL 230.796821 44.712693 \nL 231.10149 49.717066 \nL 231.406158 42.210507 \nL 231.710826 52.219253 \nL 232.015494 39.708321 \nL 232.320163 52.219253 \nL 232.624831 39.708321 \nL 232.929499 52.219253 \nL 233.234168 39.708321 \nL 233.538836 52.219253 \nL 233.843504 39.708321 \nL 234.148173 52.219253 \nL 234.452841 42.210507 \nL 234.757509 52.219253 \nL 235.062178 42.210507 \nL 235.366846 52.219253 \nL 235.671514 42.210507 \nL 235.976182 52.219253 \nL 236.280851 42.210507 \nL 236.585519 52.219253 \nL 236.890187 42.210507 \nL 237.194856 52.219253 \nL 237.499524 42.210507 \nL 237.804192 52.219253 \nL 238.108861 42.210507 \nL 238.413529 52.219253 \nL 238.718197 42.210507 \nL 239.022865 52.219253 \nL 239.327534 42.210507 \nL 239.632202 52.219253 \nL 239.93687 42.210507 \nL 240.241539 54.721439 \nL 240.546207 42.210507 \nL 240.850875 54.721439 \nL 241.155544 42.210507 \nL 241.460212 54.721439 \nL 241.76488 42.210507 \nL 242.069549 54.721439 \nL 242.374217 42.210507 \nL 242.678885 54.721439 \nL 242.983553 42.210507 \nL 243.288222 54.721439 \nL 243.59289 42.210507 \nL 243.897558 54.721439 \nL 244.202227 42.210507 \nL 244.506895 54.721439 \nL 244.811563 42.210507 \nL 245.116232 54.721439 \nL 245.4209 42.210507 \nL 245.725568 54.721439 \nL 246.030236 42.210507 \nL 246.334905 54.721439 \nL 246.639573 42.210507 \nL 246.944241 54.721439 \nL 247.24891 42.210507 \nL 247.553578 54.721439 \nL 247.858246 42.210507 \nL 248.162915 54.721439 \nL 248.467583 42.210507 \nL 248.772251 54.721439 \nL 249.07692 42.210507 \nL 249.381588 54.721439 \nL 249.686256 42.210507 \nL 249.990924 54.721439 \nL 250.295593 42.210507 \nL 250.600261 54.721439 \nL 250.904929 42.210507 \nL 251.209598 54.721439 \nL 251.514266 42.210507 \nL 251.818934 54.721439 \nL 252.123603 42.210507 \nL 252.428271 54.721439 \nL 252.732939 42.210507 \nL 253.037607 54.721439 \nL 253.342276 42.210507 \nL 253.646944 54.721439 \nL 253.951612 42.210507 \nL 254.256281 54.721439 \nL 254.560949 42.210507 \nL 254.865617 54.721439 \nL 255.170286 42.210507 \nL 255.474954 54.721439 \nL 255.779622 42.210507 \nL 256.084291 54.721439 \nL 256.388959 42.210507 \nL 256.693627 54.721439 \nL 256.998295 42.210507 \nL 257.302964 54.721439 \nL 257.607632 42.210507 \nL 257.9123 54.721439 \nL 258.216969 42.210507 \nL 258.521637 54.721439 \nL 258.826305 42.210507 \nL 259.130974 54.721439 \nL 259.435642 42.210507 \nL 259.74031 54.721439 \nL 260.044979 42.210507 \nL 260.349647 54.721439 \nL 260.654315 42.210507 \nL 260.958983 54.721439 \nL 261.263652 42.210507 \nL 261.56832 54.721439 \nL 261.872988 42.210507 \nL 262.177657 54.721439 \nL 262.482325 42.210507 \nL 262.786993 54.721439 \nL 263.091662 42.210507 \nL 263.39633 54.721439 \nL 263.700998 42.210507 \nL 264.005666 54.721439 \nL 264.310335 42.210507 \nL 264.615003 54.721439 \nL 264.919671 42.210507 \nL 265.22434 54.721439 \nL 265.529008 42.210507 \nL 265.833676 54.721439 \nL 266.138345 42.210507 \nL 266.443013 54.721439 \nL 266.747681 42.210507 \nL 267.05235 54.721439 \nL 267.357018 42.210507 \nL 267.661686 54.721439 \nL 267.966354 42.210507 \nL 268.271023 54.721439 \nL 268.575691 42.210507 \nL 268.880359 54.721439 \nL 269.185028 42.210507 \nL 269.489696 54.721439 \nL 269.794364 42.210507 \nL 270.099033 54.721439 \nL 270.403701 42.210507 \nL 270.708369 54.721439 \nL 271.013037 42.210507 \nL 271.317706 54.721439 \nL 271.622374 42.210507 \nL 271.927042 54.721439 \nL 272.231711 42.210507 \nL 272.536379 54.721439 \nL 272.841047 42.210507 \nL 273.145716 54.721439 \nL 273.450384 42.210507 \nL 273.755052 54.721439 \nL 274.059721 42.210507 \nL 274.364389 54.721439 \nL 274.669057 42.210507 \nL 274.973725 54.721439 \nL 275.278394 42.210507 \nL 275.583062 54.721439 \nL 275.88773 42.210507 \nL 276.192399 54.721439 \nL 276.497067 42.210507 \nL 276.801735 54.721439 \nL 277.106404 42.210507 \nL 277.411072 54.721439 \nL 277.71574 42.210507 \nL 278.020408 54.721439 \nL 278.325077 42.210507 \nL 278.629745 54.721439 \nL 278.934413 42.210507 \nL 279.239082 54.721439 \nL 279.54375 42.210507 \nL 279.848418 54.721439 \nL 280.153087 42.210507 \nL 280.457755 54.721439 \nL 280.762423 42.210507 \nL 281.067092 54.721439 \nL 281.37176 42.210507 \nL 281.676428 54.721439 \nL 281.981096 42.210507 \nL 282.285765 54.721439 \nL 282.590433 42.210507 \nL 282.895101 54.721439 \nL 283.19977 42.210507 \nL 283.504438 54.721439 \nL 283.809106 42.210507 \nL 284.113775 54.721439 \nL 284.418443 42.210507 \nL 284.723111 54.721439 \nL 285.027779 42.210507 \nL 285.332448 54.721439 \nL 285.637116 42.210507 \nL 285.941784 54.721439 \nL 286.246453 42.210507 \nL 286.551121 54.721439 \nL 286.855789 42.210507 \nL 287.160458 54.721439 \nL 287.465126 42.210507 \nL 287.769794 54.721439 \nL 288.074463 42.210507 \nL 288.379131 54.721439 \nL 288.683799 42.210507 \nL 288.988467 54.721439 \nL 289.293136 42.210507 \nL 289.597804 54.721439 \nL 289.902472 42.210507 \nL 290.207141 54.721439 \nL 290.511809 42.210507 \nL 290.816477 54.721439 \nL 291.121146 42.210507 \nL 291.425814 54.721439 \nL 291.730482 42.210507 \nL 292.03515 54.721439 \nL 292.339819 42.210507 \nL 292.644487 54.721439 \nL 292.949155 42.210507 \nL 293.253824 54.721439 \nL 293.558492 42.210507 \nL 293.86316 54.721439 \nL 294.167829 42.210507 \nL 294.472497 54.721439 \nL 294.777165 42.210507 \nL 295.081834 54.721439 \nL 295.386502 42.210507 \nL 295.69117 54.721439 \nL 295.995838 42.210507 \nL 296.300507 54.721439 \nL 296.605175 42.210507 \nL 296.909843 54.721439 \nL 297.214512 42.210507 \nL 297.51918 54.721439 \nL 297.823848 42.210507 \nL 298.128517 54.721439 \nL 298.433185 42.210507 \nL 298.737853 54.721439 \nL 299.042521 42.210507 \nL 299.34719 54.721439 \nL 299.651858 42.210507 \nL 299.956526 54.721439 \nL 300.261195 42.210507 \nL 300.565863 54.721439 \nL 300.870531 42.210507 \nL 301.1752 54.721439 \nL 301.479868 42.210507 \nL 301.784536 54.721439 \nL 302.089205 42.210507 \nL 302.393873 54.721439 \nL 302.698541 42.210507 \nL 303.003209 54.721439 \nL 303.307878 42.210507 \nL 303.612546 54.721439 \nL 303.917214 42.210507 \nL 304.221883 54.721439 \nL 304.526551 39.708321 \nL 304.831219 54.721439 \nL 305.135888 39.708321 \nL 305.440556 54.721439 \nL 305.745224 39.708321 \nL 306.049893 54.721439 \nL 306.354561 39.708321 \nL 306.659229 54.721439 \nL 306.963897 39.708321 \nL 307.268566 54.721439 \nL 307.573234 39.708321 \nL 307.877902 54.721439 \nL 308.182571 39.708321 \nL 308.487239 52.219253 \nL 308.791907 39.708321 \nL 309.096576 52.219253 \nL 309.401244 39.708321 \nL 309.705912 52.219253 \nL 310.01058 39.708321 \nL 310.315249 52.219253 \nL 310.619917 39.708321 \nL 310.924585 52.219253 \nL 311.229254 39.708321 \nL 311.533922 52.219253 \nL 311.83859 39.708321 \nL 312.143259 52.219253 \nL 312.447927 39.708321 \nL 312.752595 52.219253 \nL 313.057264 39.708321 \nL 313.361932 52.219253 \nL 313.6666 39.708321 \nL 313.971268 52.219253 \nL 314.275937 39.708321 \nL 314.580605 52.219253 \nL 314.885273 39.708321 \nL 315.189942 52.219253 \nL 315.49461 39.708321 \nL 315.799278 52.219253 \nL 316.103947 39.708321 \nL 316.408615 52.219253 \nL 316.713283 39.708321 \nL 317.017951 52.219253 \nL 317.32262 39.708321 \nL 317.627288 52.219253 \nL 317.931956 39.708321 \nL 318.236625 52.219253 \nL 318.541293 37.206134 \nL 318.845961 52.219253 \nL 319.15063 37.206134 \nL 319.455298 49.717066 \nL 319.759966 37.206134 \nL 320.064635 49.717066 \nL 320.369303 37.206134 \nL 320.673971 49.717066 \nL 320.978639 37.206134 \nL 321.283308 49.717066 \nL 321.587976 34.703948 \nL 321.892644 49.717066 \nL 322.197313 34.703948 \nL 322.501981 49.717066 \nL 322.806649 34.703948 \nL 323.111318 49.717066 \nL 323.415986 34.703948 \nL 323.720654 49.717066 \nL 324.025322 34.703948 \nL 324.329991 49.717066 \nL 324.634659 34.703948 \nL 324.939327 49.717066 \nL 325.243996 34.703948 \nL 325.548664 49.717066 \nL 325.853332 34.703948 \nL 326.158001 49.717066 \nL 326.462669 34.703948 \nL 326.767337 49.717066 \nL 327.072006 34.703948 \nL 327.376674 49.717066 \nL 327.681342 34.703948 \nL 327.98601 49.717066 \nL 328.290679 34.703948 \nL 328.595347 49.717066 \nL 328.900015 34.703948 \nL 329.204684 49.717066 \nL 329.509352 34.703948 \nL 329.81402 49.717066 \nL 330.118689 34.703948 \nL 330.423357 49.717066 \nL 330.728025 34.703948 \nL 331.032693 49.717066 \nL 331.337362 34.703948 \nL 331.64203 49.717066 \nL 331.946698 34.703948 \nL 332.251367 49.717066 \nL 332.556035 34.703948 \nL 332.860703 49.717066 \nL 333.165372 34.703948 \nL 333.47004 49.717066 \nL 333.774708 34.703948 \nL 334.079377 49.717066 \nL 334.384045 34.703948 \nL 334.688713 49.717066 \nL 334.993381 34.703948 \nL 335.29805 49.717066 \nL 335.602718 34.703948 \nL 335.907386 49.717066 \nL 336.212055 34.703948 \nL 336.516723 49.717066 \nL 336.821391 34.703948 \nL 337.12606 49.717066 \nL 337.430728 34.703948 \nL 337.735396 49.717066 \nL 338.040064 34.703948 \nL 338.344733 49.717066 \nL 338.649401 34.703948 \nL 338.954069 49.717066 \nL 339.258738 34.703948 \nL 339.563406 49.717066 \nL 339.868074 34.703948 \nL 340.172743 49.717066 \nL 340.477411 34.703948 \nL 340.782079 49.717066 \nL 341.086748 34.703948 \nL 341.391416 49.717066 \nL 341.696084 34.703948 \nL 342.000752 49.717066 \nL 342.305421 34.703948 \nL 342.610089 49.717066 \nL 342.914757 34.703948 \nL 343.219426 49.717066 \nL 343.524094 34.703948 \nL 343.828762 49.717066 \nL 344.133431 34.703948 \nL 344.438099 49.717066 \nL 344.742767 34.703948 \nL 345.047436 49.717066 \nL 345.352104 34.703948 \nL 345.656772 49.717066 \nL 345.96144 34.703948 \nL 346.266109 49.717066 \nL 346.570777 34.703948 \nL 346.875445 49.717066 \nL 347.180114 34.703948 \nL 347.484782 49.717066 \nL 347.78945 34.703948 \nL 348.094119 49.717066 \nL 348.398787 34.703948 \nL 348.703455 49.717066 \nL 349.008123 34.703948 \nL 349.312792 49.717066 \nL 349.61746 34.703948 \nL 349.922128 49.717066 \nL 350.226797 34.703948 \nL 350.531465 49.717066 \nL 350.836133 32.201761 \nL 351.140802 49.717066 \nL 351.44547 32.201761 \nL 351.750138 49.717066 \nL 352.054807 32.201761 \nL 352.359475 49.717066 \nL 352.664143 32.201761 \nL 352.968811 49.717066 \nL 353.27348 32.201761 \nL 353.578148 49.717066 \nL 353.882816 32.201761 \nL 354.187485 49.717066 \nL 354.492153 32.201761 \nL 354.796821 49.717066 \nL 355.10149 32.201761 \nL 355.406158 49.717066 \nL 355.710826 32.201761 \nL 356.015494 49.717066 \nL 356.320163 32.201761 \nL 356.624831 49.717066 \nL 356.929499 32.201761 \nL 357.234168 49.717066 \nL 357.538836 32.201761 \nL 357.843504 49.717066 \nL 358.148173 32.201761 \nL 358.452841 49.717066 \nL 358.757509 32.201761 \nL 359.062178 49.717066 \nL 359.366846 32.201761 \nL 359.671514 49.717066 \nL 359.976182 32.201761 \nL 360.280851 49.717066 \nL 360.585519 34.703948 \nL 360.890187 49.717066 \nL 361.194856 34.703948 \nL 361.499524 49.717066 \nL 361.804192 37.206134 \nL 362.108861 49.717066 \nL 362.413529 37.206134 \nL 362.718197 49.717066 \nL 363.022865 37.206134 \nL 363.327534 49.717066 \nL 363.632202 39.708321 \nL 363.93687 49.717066 \nL 364.241539 39.708321 \nL 364.546207 49.717066 \nL 364.850875 39.708321 \nL 365.155544 49.717066 \nL 365.460212 39.708321 \nL 365.76488 49.717066 \nL 366.069549 39.708321 \nL 366.374217 49.717066 \nL 366.678885 39.708321 \nL 366.983553 49.717066 \nL 367.288222 39.708321 \nL 367.59289 49.717066 \nL 367.897558 39.708321 \nL 368.202227 47.21488 \nL 368.506895 39.708321 \nL 368.811563 47.21488 \nL 369.116232 39.708321 \nL 369.4209 47.21488 \nL 369.725568 39.708321 \nL 369.725568 39.708321 \n\" style=\"fill:none;stroke:#1f77b4;stroke-linecap:square;stroke-width:1.5;\"/>\n   </g>\n   <g id=\"patch_3\">\n    <path d=\"M 50.14375 239.758125 \nL 50.14375 22.318125 \n\" style=\"fill:none;stroke:#000000;stroke-linecap:square;stroke-linejoin:miter;stroke-width:0.8;\"/>\n   </g>\n   <g id=\"patch_4\">\n    <path d=\"M 384.94375 239.758125 \nL 384.94375 22.318125 \n\" style=\"fill:none;stroke:#000000;stroke-linecap:square;stroke-linejoin:miter;stroke-width:0.8;\"/>\n   </g>\n   <g id=\"patch_5\">\n    <path d=\"M 50.14375 239.758125 \nL 384.94375 239.758125 \n\" style=\"fill:none;stroke:#000000;stroke-linecap:square;stroke-linejoin:miter;stroke-width:0.8;\"/>\n   </g>\n   <g id=\"patch_6\">\n    <path d=\"M 50.14375 22.318125 \nL 384.94375 22.318125 \n\" style=\"fill:none;stroke:#000000;stroke-linecap:square;stroke-linejoin:miter;stroke-width:0.8;\"/>\n   </g>\n   <g id=\"text_18\">\n    <!-- Learning curve -->\n    <defs>\n     <path d=\"M 9.8125 72.90625 \nL 19.671875 72.90625 \nL 19.671875 8.296875 \nL 55.171875 8.296875 \nL 55.171875 0 \nL 9.8125 0 \nz\n\" id=\"DejaVuSans-76\"/>\n     <path d=\"M 45.40625 27.984375 \nQ 45.40625 37.75 41.375 43.109375 \nQ 37.359375 48.484375 30.078125 48.484375 \nQ 22.859375 48.484375 18.828125 43.109375 \nQ 14.796875 37.75 14.796875 27.984375 \nQ 14.796875 18.265625 18.828125 12.890625 \nQ 22.859375 7.515625 30.078125 7.515625 \nQ 37.359375 7.515625 41.375 12.890625 \nQ 45.40625 18.265625 45.40625 27.984375 \nz\nM 54.390625 6.78125 \nQ 54.390625 -7.171875 48.1875 -13.984375 \nQ 42 -20.796875 29.203125 -20.796875 \nQ 24.46875 -20.796875 20.265625 -20.09375 \nQ 16.0625 -19.390625 12.109375 -17.921875 \nL 12.109375 -9.1875 \nQ 16.0625 -11.328125 19.921875 -12.34375 \nQ 23.78125 -13.375 27.78125 -13.375 \nQ 36.625 -13.375 41.015625 -8.765625 \nQ 45.40625 -4.15625 45.40625 5.171875 \nL 45.40625 9.625 \nQ 42.625 4.78125 38.28125 2.390625 \nQ 33.9375 0 27.875 0 \nQ 17.828125 0 11.671875 7.65625 \nQ 5.515625 15.328125 5.515625 27.984375 \nQ 5.515625 40.671875 11.671875 48.328125 \nQ 17.828125 56 27.875 56 \nQ 33.9375 56 38.28125 53.609375 \nQ 42.625 51.21875 45.40625 46.390625 \nL 45.40625 54.6875 \nL 54.390625 54.6875 \nz\n\" id=\"DejaVuSans-103\"/>\n     <path d=\"M 2.984375 54.6875 \nL 12.5 54.6875 \nL 29.59375 8.796875 \nL 46.6875 54.6875 \nL 56.203125 54.6875 \nL 35.6875 0 \nL 23.484375 0 \nz\n\" id=\"DejaVuSans-118\"/>\n    </defs>\n    <g transform=\"translate(172.77625 16.318125)scale(0.12 -0.12)\">\n     <use xlink:href=\"#DejaVuSans-76\"/>\n     <use x=\"53.962891\" xlink:href=\"#DejaVuSans-101\"/>\n     <use x=\"115.486328\" xlink:href=\"#DejaVuSans-97\"/>\n     <use x=\"176.765625\" xlink:href=\"#DejaVuSans-114\"/>\n     <use x=\"216.128906\" xlink:href=\"#DejaVuSans-110\"/>\n     <use x=\"279.507812\" xlink:href=\"#DejaVuSans-105\"/>\n     <use x=\"307.291016\" xlink:href=\"#DejaVuSans-110\"/>\n     <use x=\"370.669922\" xlink:href=\"#DejaVuSans-103\"/>\n     <use x=\"434.146484\" xlink:href=\"#DejaVuSans-32\"/>\n     <use x=\"465.933594\" xlink:href=\"#DejaVuSans-99\"/>\n     <use x=\"520.914062\" xlink:href=\"#DejaVuSans-117\"/>\n     <use x=\"584.292969\" xlink:href=\"#DejaVuSans-114\"/>\n     <use x=\"625.40625\" xlink:href=\"#DejaVuSans-118\"/>\n     <use x=\"684.585938\" xlink:href=\"#DejaVuSans-101\"/>\n    </g>\n   </g>\n  </g>\n </g>\n <defs>\n  <clipPath id=\"pe5c37a63bf\">\n   <rect height=\"217.44\" width=\"334.8\" x=\"50.14375\" y=\"22.318125\"/>\n  </clipPath>\n </defs>\n</svg>\n",
      "image/png": "[encoded data removed]"
     },
     "metadata": {
      "needs_background": "light"
     }
    }
   ],
   "source": [
    "plt.plot(performance)\n",
    "plt.title('Learning curve')\n",
    "plt.xlabel('# of Iterations')\n",
    "plt.ylabel('Accuracy')"
   ]
  },
  {
   "cell_type": "code",
   "execution_count": null,
   "metadata": {},
   "outputs": [],
   "source": []
  }
 ],
 "metadata": {
  "kernelspec": {
   "display_name": "Python 3",
   "language": "python",
   "name": "python3"
  },
  "language_info": {
   "codemirror_mode": {
    "name": "ipython",
    "version": 3
   },
   "file_extension": ".py",
   "mimetype": "text/x-python",
   "name": "python",
   "nbconvert_exporter": "python",
   "pygments_lexer": "ipython3",
   "version": "3.8.3-final"
  }
 },
 "nbformat": 4,
 "nbformat_minor": 4
}